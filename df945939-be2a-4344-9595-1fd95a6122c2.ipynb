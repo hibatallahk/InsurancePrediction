{
 "cells": [
  {
   "cell_type": "markdown",
   "metadata": {},
   "source": [
    "<div class=\"alert alert-success\">\n",
    "<b>Reviewer's comment V2</b>\n",
    "  \n",
    "Thank you for taking the time to improve the project! Now it's accepted. Good luck on the next sprint!\n",
    "  \n",
    "</div>"
   ]
  },
  {
   "cell_type": "markdown",
   "metadata": {},
   "source": [
    "# Review\n",
    "Hi, my name is Dmitry and I will be reviewing your project.\n",
    "  \n",
    "You can find my comments in colored markdown cells:\n",
    "  \n",
    "<div class=\"alert alert-success\">\n",
    "  If everything is done successfully.\n",
    "</div>\n",
    "  \n",
    "<div class=\"alert alert-warning\">\n",
    "  If I have some (optional) suggestions, or questions to think about, or general comments.\n",
    "</div>\n",
    "  \n",
    "<div class=\"alert alert-danger\">\n",
    "  If a section requires some corrections. Work can't be accepted with red comments.\n",
    "</div>\n",
    "  \n",
    "Please don't remove my comments, as it will make further review iterations much harder for me.\n",
    "  \n",
    "Feel free to reply to my comments or ask questions using the following template:\n",
    "  \n",
    "<div class=\"alert alert-info\">\n",
    "  For your comments and questions.\n",
    "</div>\n",
    "  \n",
    "First of all, thank you for turning in the project! You did a great job overall, but one task is missing: the mathematical proof that data obfuscation does not influence the model's quality. I gave you some hints, but if you still have trouble with it, contact the tutor. Good luck!"
   ]
  },
  {
   "cell_type": "markdown",
   "metadata": {},
   "source": [
    "# Statement"
   ]
  },
  {
   "cell_type": "markdown",
   "metadata": {},
   "source": [
    "The Sure Tomorrow insurance company wants to solve several tasks with the help of Machine Learning and you are asked to evaluate that possibility.\n",
    "\n",
    "- Task 1: Find customers who are similar to a given customer. This will help the company's agents with marketing.\n",
    "- Task 2: Predict whether a new customer is likely to receive an insurance benefit. Can a prediction model do better than a dummy model?\n",
    "- Task 3: Predict the number of insurance benefits a new customer is likely to receive using a linear regression model.\n",
    "- Task 4: Protect clients' personal data without breaking the model from the previous task. It's necessary to develop a data transformation algorithm that would make it hard to recover personal information if the data fell into the wrong hands. This is called data masking, or data obfuscation. But the data should be protected in such a way that the quality of machine learning models doesn't suffer. You don't need to pick the best model, just prove that the algorithm works correctly."
   ]
  },
  {
   "cell_type": "markdown",
   "metadata": {},
   "source": [
    "# Table of content"
   ]
  },
  {
   "cell_type": "markdown",
   "metadata": {},
   "source": [
    "<div> \n",
    "    <ol>\n",
    "      <li><a href=\"#1\">Data Preprocessing & EDA</a></li>\n",
    "      <li><a href=\"#2\">Task 1. Similar Customers</a></li>\n",
    "      <li><a href=\"#3\">Task 2. Is Customer Likely to Receive Insurance Benefit?</a></li>\n",
    "      <li><a href=\"#4\">Task 3. Regression (with Linear Regression)</a></li>\n",
    "      <li><a href=\"#5\">Task 4. Obfuscating Data</a></li>\n",
    "      <li><a href=\"#6\"> Conclusions</a></li>\n",
    "    </ol> \n",
    "</div>"
   ]
  },
  {
   "cell_type": "markdown",
   "metadata": {},
   "source": [
    "# <a id=\"1\"> Data Preprocessing & Exploration\n",
    "\n",
    "## Initialization"
   ]
  },
  {
   "cell_type": "code",
   "execution_count": 1,
   "metadata": {},
   "outputs": [],
   "source": [
    "import numpy as np\n",
    "import pandas as pd\n",
    "import math\n",
    "\n",
    "import seaborn as sns\n",
    "\n",
    "import sklearn.linear_model\n",
    "import sklearn.metrics\n",
    "import sklearn.neighbors\n",
    "import sklearn.preprocessing\n",
    "\n",
    "from sklearn.model_selection import train_test_split\n",
    "\n",
    "from IPython.display import display"
   ]
  },
  {
   "cell_type": "markdown",
   "metadata": {},
   "source": [
    "## Load Data"
   ]
  },
  {
   "cell_type": "markdown",
   "metadata": {},
   "source": [
    "Load data and conduct a basic check that it's free from obvious issues."
   ]
  },
  {
   "cell_type": "code",
   "execution_count": 2,
   "metadata": {},
   "outputs": [],
   "source": [
    "df = pd.read_csv('https://code.s3.yandex.net/datasets/insurance_us.csv')"
   ]
  },
  {
   "cell_type": "markdown",
   "metadata": {},
   "source": [
    "We rename the colums to make the code look more consistent with its style."
   ]
  },
  {
   "cell_type": "code",
   "execution_count": 3,
   "metadata": {},
   "outputs": [],
   "source": [
    "df = df.rename(columns={'Gender': 'gender', 'Age': 'age', 'Salary': 'income', 'Family members': 'family_members', 'Insurance benefits': 'insurance_benefits'})"
   ]
  },
  {
   "cell_type": "code",
   "execution_count": 4,
   "metadata": {},
   "outputs": [
    {
     "data": {
      "text/html": [
       "<div>\n",
       "<style scoped>\n",
       "    .dataframe tbody tr th:only-of-type {\n",
       "        vertical-align: middle;\n",
       "    }\n",
       "\n",
       "    .dataframe tbody tr th {\n",
       "        vertical-align: top;\n",
       "    }\n",
       "\n",
       "    .dataframe thead th {\n",
       "        text-align: right;\n",
       "    }\n",
       "</style>\n",
       "<table border=\"1\" class=\"dataframe\">\n",
       "  <thead>\n",
       "    <tr style=\"text-align: right;\">\n",
       "      <th></th>\n",
       "      <th>gender</th>\n",
       "      <th>age</th>\n",
       "      <th>income</th>\n",
       "      <th>family_members</th>\n",
       "      <th>insurance_benefits</th>\n",
       "    </tr>\n",
       "  </thead>\n",
       "  <tbody>\n",
       "    <tr>\n",
       "      <td>4557</td>\n",
       "      <td>1</td>\n",
       "      <td>41.0</td>\n",
       "      <td>54000.0</td>\n",
       "      <td>4</td>\n",
       "      <td>0</td>\n",
       "    </tr>\n",
       "    <tr>\n",
       "      <td>1899</td>\n",
       "      <td>0</td>\n",
       "      <td>18.0</td>\n",
       "      <td>38000.0</td>\n",
       "      <td>2</td>\n",
       "      <td>0</td>\n",
       "    </tr>\n",
       "    <tr>\n",
       "      <td>3228</td>\n",
       "      <td>1</td>\n",
       "      <td>41.0</td>\n",
       "      <td>32300.0</td>\n",
       "      <td>0</td>\n",
       "      <td>0</td>\n",
       "    </tr>\n",
       "    <tr>\n",
       "      <td>4043</td>\n",
       "      <td>1</td>\n",
       "      <td>29.0</td>\n",
       "      <td>48100.0</td>\n",
       "      <td>2</td>\n",
       "      <td>0</td>\n",
       "    </tr>\n",
       "    <tr>\n",
       "      <td>4903</td>\n",
       "      <td>1</td>\n",
       "      <td>18.0</td>\n",
       "      <td>32800.0</td>\n",
       "      <td>1</td>\n",
       "      <td>0</td>\n",
       "    </tr>\n",
       "    <tr>\n",
       "      <td>2993</td>\n",
       "      <td>0</td>\n",
       "      <td>36.0</td>\n",
       "      <td>42000.0</td>\n",
       "      <td>0</td>\n",
       "      <td>0</td>\n",
       "    </tr>\n",
       "    <tr>\n",
       "      <td>2316</td>\n",
       "      <td>1</td>\n",
       "      <td>52.0</td>\n",
       "      <td>54700.0</td>\n",
       "      <td>0</td>\n",
       "      <td>2</td>\n",
       "    </tr>\n",
       "    <tr>\n",
       "      <td>3571</td>\n",
       "      <td>0</td>\n",
       "      <td>35.0</td>\n",
       "      <td>25700.0</td>\n",
       "      <td>1</td>\n",
       "      <td>0</td>\n",
       "    </tr>\n",
       "    <tr>\n",
       "      <td>2268</td>\n",
       "      <td>1</td>\n",
       "      <td>44.0</td>\n",
       "      <td>28400.0</td>\n",
       "      <td>0</td>\n",
       "      <td>1</td>\n",
       "    </tr>\n",
       "    <tr>\n",
       "      <td>299</td>\n",
       "      <td>0</td>\n",
       "      <td>39.0</td>\n",
       "      <td>43500.0</td>\n",
       "      <td>3</td>\n",
       "      <td>0</td>\n",
       "    </tr>\n",
       "  </tbody>\n",
       "</table>\n",
       "</div>"
      ],
      "text/plain": [
       "      gender   age   income  family_members  insurance_benefits\n",
       "4557       1  41.0  54000.0               4                   0\n",
       "1899       0  18.0  38000.0               2                   0\n",
       "3228       1  41.0  32300.0               0                   0\n",
       "4043       1  29.0  48100.0               2                   0\n",
       "4903       1  18.0  32800.0               1                   0\n",
       "2993       0  36.0  42000.0               0                   0\n",
       "2316       1  52.0  54700.0               0                   2\n",
       "3571       0  35.0  25700.0               1                   0\n",
       "2268       1  44.0  28400.0               0                   1\n",
       "299        0  39.0  43500.0               3                   0"
      ]
     },
     "execution_count": 4,
     "metadata": {},
     "output_type": "execute_result"
    }
   ],
   "source": [
    "df.sample(10)"
   ]
  },
  {
   "cell_type": "code",
   "execution_count": 5,
   "metadata": {},
   "outputs": [
    {
     "name": "stdout",
     "output_type": "stream",
     "text": [
      "<class 'pandas.core.frame.DataFrame'>\n",
      "RangeIndex: 5000 entries, 0 to 4999\n",
      "Data columns (total 5 columns):\n",
      "gender                5000 non-null int64\n",
      "age                   5000 non-null float64\n",
      "income                5000 non-null float64\n",
      "family_members        5000 non-null int64\n",
      "insurance_benefits    5000 non-null int64\n",
      "dtypes: float64(2), int64(3)\n",
      "memory usage: 195.4 KB\n"
     ]
    }
   ],
   "source": [
    "df.info()"
   ]
  },
  {
   "cell_type": "code",
   "execution_count": 6,
   "metadata": {},
   "outputs": [],
   "source": [
    "# we may want to fix the age type (from float to int) though this is not critical\n",
    "# write your conversion here if you choose:\n",
    "df['age'] = df['age'].astype(int)"
   ]
  },
  {
   "cell_type": "code",
   "execution_count": 7,
   "metadata": {},
   "outputs": [
    {
     "name": "stdout",
     "output_type": "stream",
     "text": [
      "<class 'pandas.core.frame.DataFrame'>\n",
      "RangeIndex: 5000 entries, 0 to 4999\n",
      "Data columns (total 5 columns):\n",
      "gender                5000 non-null int64\n",
      "age                   5000 non-null int64\n",
      "income                5000 non-null float64\n",
      "family_members        5000 non-null int64\n",
      "insurance_benefits    5000 non-null int64\n",
      "dtypes: float64(1), int64(4)\n",
      "memory usage: 195.4 KB\n"
     ]
    }
   ],
   "source": [
    "# check to see that the conversion was successful\n",
    "df.info()"
   ]
  },
  {
   "cell_type": "code",
   "execution_count": 8,
   "metadata": {},
   "outputs": [
    {
     "data": {
      "text/html": [
       "<div>\n",
       "<style scoped>\n",
       "    .dataframe tbody tr th:only-of-type {\n",
       "        vertical-align: middle;\n",
       "    }\n",
       "\n",
       "    .dataframe tbody tr th {\n",
       "        vertical-align: top;\n",
       "    }\n",
       "\n",
       "    .dataframe thead th {\n",
       "        text-align: right;\n",
       "    }\n",
       "</style>\n",
       "<table border=\"1\" class=\"dataframe\">\n",
       "  <thead>\n",
       "    <tr style=\"text-align: right;\">\n",
       "      <th></th>\n",
       "      <th>gender</th>\n",
       "      <th>age</th>\n",
       "      <th>income</th>\n",
       "      <th>family_members</th>\n",
       "      <th>insurance_benefits</th>\n",
       "    </tr>\n",
       "  </thead>\n",
       "  <tbody>\n",
       "    <tr>\n",
       "      <td>count</td>\n",
       "      <td>5000.000000</td>\n",
       "      <td>5000.000000</td>\n",
       "      <td>5000.000000</td>\n",
       "      <td>5000.000000</td>\n",
       "      <td>5000.000000</td>\n",
       "    </tr>\n",
       "    <tr>\n",
       "      <td>mean</td>\n",
       "      <td>0.499000</td>\n",
       "      <td>30.952800</td>\n",
       "      <td>39916.360000</td>\n",
       "      <td>1.194200</td>\n",
       "      <td>0.148000</td>\n",
       "    </tr>\n",
       "    <tr>\n",
       "      <td>std</td>\n",
       "      <td>0.500049</td>\n",
       "      <td>8.440807</td>\n",
       "      <td>9900.083569</td>\n",
       "      <td>1.091387</td>\n",
       "      <td>0.463183</td>\n",
       "    </tr>\n",
       "    <tr>\n",
       "      <td>min</td>\n",
       "      <td>0.000000</td>\n",
       "      <td>18.000000</td>\n",
       "      <td>5300.000000</td>\n",
       "      <td>0.000000</td>\n",
       "      <td>0.000000</td>\n",
       "    </tr>\n",
       "    <tr>\n",
       "      <td>25%</td>\n",
       "      <td>0.000000</td>\n",
       "      <td>24.000000</td>\n",
       "      <td>33300.000000</td>\n",
       "      <td>0.000000</td>\n",
       "      <td>0.000000</td>\n",
       "    </tr>\n",
       "    <tr>\n",
       "      <td>50%</td>\n",
       "      <td>0.000000</td>\n",
       "      <td>30.000000</td>\n",
       "      <td>40200.000000</td>\n",
       "      <td>1.000000</td>\n",
       "      <td>0.000000</td>\n",
       "    </tr>\n",
       "    <tr>\n",
       "      <td>75%</td>\n",
       "      <td>1.000000</td>\n",
       "      <td>37.000000</td>\n",
       "      <td>46600.000000</td>\n",
       "      <td>2.000000</td>\n",
       "      <td>0.000000</td>\n",
       "    </tr>\n",
       "    <tr>\n",
       "      <td>max</td>\n",
       "      <td>1.000000</td>\n",
       "      <td>65.000000</td>\n",
       "      <td>79000.000000</td>\n",
       "      <td>6.000000</td>\n",
       "      <td>5.000000</td>\n",
       "    </tr>\n",
       "  </tbody>\n",
       "</table>\n",
       "</div>"
      ],
      "text/plain": [
       "            gender          age        income  family_members  \\\n",
       "count  5000.000000  5000.000000   5000.000000     5000.000000   \n",
       "mean      0.499000    30.952800  39916.360000        1.194200   \n",
       "std       0.500049     8.440807   9900.083569        1.091387   \n",
       "min       0.000000    18.000000   5300.000000        0.000000   \n",
       "25%       0.000000    24.000000  33300.000000        0.000000   \n",
       "50%       0.000000    30.000000  40200.000000        1.000000   \n",
       "75%       1.000000    37.000000  46600.000000        2.000000   \n",
       "max       1.000000    65.000000  79000.000000        6.000000   \n",
       "\n",
       "       insurance_benefits  \n",
       "count         5000.000000  \n",
       "mean             0.148000  \n",
       "std              0.463183  \n",
       "min              0.000000  \n",
       "25%              0.000000  \n",
       "50%              0.000000  \n",
       "75%              0.000000  \n",
       "max              5.000000  "
      ]
     },
     "execution_count": 8,
     "metadata": {},
     "output_type": "execute_result"
    }
   ],
   "source": [
    "# now have a look at the data's descriptive statistics. \n",
    "# Does everything look okay?\n",
    "df.describe()"
   ]
  },
  {
   "cell_type": "code",
   "execution_count": 9,
   "metadata": {},
   "outputs": [
    {
     "data": {
      "text/html": [
       "<div>\n",
       "<style scoped>\n",
       "    .dataframe tbody tr th:only-of-type {\n",
       "        vertical-align: middle;\n",
       "    }\n",
       "\n",
       "    .dataframe tbody tr th {\n",
       "        vertical-align: top;\n",
       "    }\n",
       "\n",
       "    .dataframe thead th {\n",
       "        text-align: right;\n",
       "    }\n",
       "</style>\n",
       "<table border=\"1\" class=\"dataframe\">\n",
       "  <thead>\n",
       "    <tr style=\"text-align: right;\">\n",
       "      <th></th>\n",
       "      <th>gender</th>\n",
       "      <th>age</th>\n",
       "      <th>income</th>\n",
       "      <th>family_members</th>\n",
       "      <th>insurance_benefits</th>\n",
       "    </tr>\n",
       "  </thead>\n",
       "  <tbody>\n",
       "    <tr>\n",
       "      <td>0</td>\n",
       "      <td>1</td>\n",
       "      <td>41</td>\n",
       "      <td>49600.0</td>\n",
       "      <td>1</td>\n",
       "      <td>0</td>\n",
       "    </tr>\n",
       "    <tr>\n",
       "      <td>1</td>\n",
       "      <td>0</td>\n",
       "      <td>46</td>\n",
       "      <td>38000.0</td>\n",
       "      <td>1</td>\n",
       "      <td>1</td>\n",
       "    </tr>\n",
       "    <tr>\n",
       "      <td>2</td>\n",
       "      <td>0</td>\n",
       "      <td>29</td>\n",
       "      <td>21000.0</td>\n",
       "      <td>0</td>\n",
       "      <td>0</td>\n",
       "    </tr>\n",
       "    <tr>\n",
       "      <td>3</td>\n",
       "      <td>0</td>\n",
       "      <td>21</td>\n",
       "      <td>41700.0</td>\n",
       "      <td>2</td>\n",
       "      <td>0</td>\n",
       "    </tr>\n",
       "    <tr>\n",
       "      <td>4</td>\n",
       "      <td>1</td>\n",
       "      <td>28</td>\n",
       "      <td>26100.0</td>\n",
       "      <td>0</td>\n",
       "      <td>0</td>\n",
       "    </tr>\n",
       "  </tbody>\n",
       "</table>\n",
       "</div>"
      ],
      "text/plain": [
       "   gender  age   income  family_members  insurance_benefits\n",
       "0       1   41  49600.0               1                   0\n",
       "1       0   46  38000.0               1                   1\n",
       "2       0   29  21000.0               0                   0\n",
       "3       0   21  41700.0               2                   0\n",
       "4       1   28  26100.0               0                   0"
      ]
     },
     "execution_count": 9,
     "metadata": {},
     "output_type": "execute_result"
    }
   ],
   "source": [
    "df.head()"
   ]
  },
  {
   "cell_type": "code",
   "execution_count": 10,
   "metadata": {},
   "outputs": [
    {
     "data": {
      "text/plain": [
       "gender                0\n",
       "age                   0\n",
       "income                0\n",
       "family_members        0\n",
       "insurance_benefits    0\n",
       "dtype: int64"
      ]
     },
     "execution_count": 10,
     "metadata": {},
     "output_type": "execute_result"
    }
   ],
   "source": [
    "df.isnull().sum()"
   ]
  },
  {
   "cell_type": "markdown",
   "metadata": {},
   "source": [
    "**Conclusion**\n",
    "\n",
    "- The data looks good:\n",
    "    - it contains 5000 rows and 5 columns\n",
    "    - we renamed the colums to make the code look more consistent with its style.\n",
    "    - we fixed the age type (from float to int)\n",
    "    - we found no missing values\n",
    "    \n",
    "Let's move on to the EDA part"
   ]
  },
  {
   "cell_type": "markdown",
   "metadata": {},
   "source": [
    "## EDA"
   ]
  },
  {
   "cell_type": "markdown",
   "metadata": {},
   "source": [
    "Let's quickly check whether there are certain groups of customers by looking at the pair plot."
   ]
  },
  {
   "cell_type": "code",
   "execution_count": 11,
   "metadata": {},
   "outputs": [
    {
     "data": {
      "image/png": "[encoded data removed]",
      "text/plain": [
       "<Figure size 864x864 with 30 Axes>"
      ]
     },
     "metadata": {
      "needs_background": "light"
     },
     "output_type": "display_data"
    }
   ],
   "source": [
    "g = sns.pairplot(df, kind='hist')\n",
    "g.fig.set_size_inches(12, 12)"
   ]
  },
  {
   "cell_type": "markdown",
   "metadata": {},
   "source": [
    "Ok, it is a bit difficult to spot obvious groups (clusters) as it is difficult to combine several variables simultaneously (to analyze multivariate distributions). That's where LA and ML can be quite handy."
   ]
  },
  {
   "cell_type": "markdown",
   "metadata": {},
   "source": [
    "# <a id=\"2\"> Task 1. Similar Customers"
   ]
  },
  {
   "cell_type": "markdown",
   "metadata": {},
   "source": [
    "In the language of ML, it is necessary to develop a procedure that returns k nearest neighbors (objects) for a given object based on the distance between the objects.\n",
    "\n",
    "You may want to review the following lessons (chapter -> lesson)\n",
    "- Distance Between Vectors -> Euclidean Distance\n",
    "- Distance Between Vectors -> Manhattan Distance\n",
    "\n",
    "To solve the task, we can try different distance metrics."
   ]
  },
  {
   "cell_type": "markdown",
   "metadata": {},
   "source": [
    "Write a function that returns k nearest neighbors for an $n^{th}$ object based on a specified distance metric. The number of received insurance benefits should not be taken into account for this task. \n",
    "\n",
    "You can use a ready implementation of the kNN algorithm from scikit-learn (check [the link](https://scikit-learn.org/stable/modules/generated/sklearn.neighbors.NearestNeighbors.html#sklearn.neighbors.NearestNeighbors)) or use your own.\n",
    "\n",
    "Test it for four combination of two cases\n",
    "- Scaling\n",
    "  - the data is not scaled\n",
    "  - the data is scaled with the [MaxAbsScaler](https://scikit-learn.org/stable/modules/generated/sklearn.preprocessing.MaxAbsScaler.html) scaler\n",
    "- Distance Metrics\n",
    "  - Euclidean\n",
    "  - Manhattan\n",
    "\n",
    "Answer these questions:\n",
    "- Does the data being not scaled affect the kNN algorithm? If so, how does that appear?\n",
    "- How similar are the results using the Manhattan distance metric (regardless of the scaling)?"
   ]
  },
  {
   "cell_type": "code",
   "execution_count": 12,
   "metadata": {},
   "outputs": [],
   "source": [
    "feature_names = ['gender', 'age', 'income', 'family_members']"
   ]
  },
  {
   "cell_type": "code",
   "execution_count": 13,
   "metadata": {},
   "outputs": [],
   "source": [
    "def get_knn(df, n, k, metric):\n",
    "    \n",
    "    \"\"\"\n",
    "    Returns k nearest neighbors\n",
    "\n",
    "    :param df: pandas DataFrame used to find similar objects within\n",
    "    :param n: object no for which the nearest neighbours are looked for\n",
    "    :param k: the number of the nearest neighbours to return\n",
    "    :param metric: name of distance metric\n",
    "    \"\"\"\n",
    "\n",
    "    nbrs = sklearn.neighbors.NearestNeighbors(n_neighbors=k, metric=metric) \n",
    "    nbrs.fit(df[feature_names].values)\n",
    "    nbrs_distances, nbrs_indices = nbrs.kneighbors([df.iloc[n][feature_names]], k, return_distance=True)\n",
    "    \n",
    "    df_res = pd.concat([\n",
    "        df.iloc[nbrs_indices[0]], \n",
    "        pd.DataFrame(nbrs_distances.T, index=nbrs_indices[0], columns=['distance'])\n",
    "        ], axis=1)\n",
    "    \n",
    "    return df_res"
   ]
  },
  {
   "cell_type": "markdown",
   "metadata": {},
   "source": [
    "<div class=\"alert alert-success\">\n",
    "<b>Reviewer's comment</b>\n",
    "  \n",
    "The function for getting k nearest neighbors is correct\n",
    "  \n",
    "</div>"
   ]
  },
  {
   "cell_type": "markdown",
   "metadata": {},
   "source": [
    "Scaling the data."
   ]
  },
  {
   "cell_type": "code",
   "execution_count": 14,
   "metadata": {},
   "outputs": [],
   "source": [
    "feature_names = ['gender', 'age', 'income', 'family_members']\n",
    "\n",
    "transformer_mas = sklearn.preprocessing.MaxAbsScaler().fit(df[feature_names].to_numpy())\n",
    "\n",
    "df_scaled = df.copy()\n",
    "df_scaled.loc[:, feature_names] = transformer_mas.transform(df[feature_names].to_numpy())"
   ]
  },
  {
   "cell_type": "code",
   "execution_count": 15,
   "metadata": {},
   "outputs": [
    {
     "data": {
      "text/html": [
       "<div>\n",
       "<style scoped>\n",
       "    .dataframe tbody tr th:only-of-type {\n",
       "        vertical-align: middle;\n",
       "    }\n",
       "\n",
       "    .dataframe tbody tr th {\n",
       "        vertical-align: top;\n",
       "    }\n",
       "\n",
       "    .dataframe thead th {\n",
       "        text-align: right;\n",
       "    }\n",
       "</style>\n",
       "<table border=\"1\" class=\"dataframe\">\n",
       "  <thead>\n",
       "    <tr style=\"text-align: right;\">\n",
       "      <th></th>\n",
       "      <th>gender</th>\n",
       "      <th>age</th>\n",
       "      <th>income</th>\n",
       "      <th>family_members</th>\n",
       "      <th>insurance_benefits</th>\n",
       "    </tr>\n",
       "  </thead>\n",
       "  <tbody>\n",
       "    <tr>\n",
       "      <td>2350</td>\n",
       "      <td>0.0</td>\n",
       "      <td>0.307692</td>\n",
       "      <td>0.565823</td>\n",
       "      <td>0.166667</td>\n",
       "      <td>0</td>\n",
       "    </tr>\n",
       "    <tr>\n",
       "      <td>1599</td>\n",
       "      <td>1.0</td>\n",
       "      <td>0.753846</td>\n",
       "      <td>0.387342</td>\n",
       "      <td>0.666667</td>\n",
       "      <td>1</td>\n",
       "    </tr>\n",
       "    <tr>\n",
       "      <td>2630</td>\n",
       "      <td>1.0</td>\n",
       "      <td>0.430769</td>\n",
       "      <td>0.613924</td>\n",
       "      <td>0.000000</td>\n",
       "      <td>0</td>\n",
       "    </tr>\n",
       "    <tr>\n",
       "      <td>3909</td>\n",
       "      <td>1.0</td>\n",
       "      <td>0.507692</td>\n",
       "      <td>0.493671</td>\n",
       "      <td>0.500000</td>\n",
       "      <td>0</td>\n",
       "    </tr>\n",
       "    <tr>\n",
       "      <td>1999</td>\n",
       "      <td>1.0</td>\n",
       "      <td>0.523077</td>\n",
       "      <td>0.535443</td>\n",
       "      <td>0.500000</td>\n",
       "      <td>0</td>\n",
       "    </tr>\n",
       "  </tbody>\n",
       "</table>\n",
       "</div>"
      ],
      "text/plain": [
       "      gender       age    income  family_members  insurance_benefits\n",
       "2350     0.0  0.307692  0.565823        0.166667                   0\n",
       "1599     1.0  0.753846  0.387342        0.666667                   1\n",
       "2630     1.0  0.430769  0.613924        0.000000                   0\n",
       "3909     1.0  0.507692  0.493671        0.500000                   0\n",
       "1999     1.0  0.523077  0.535443        0.500000                   0"
      ]
     },
     "execution_count": 15,
     "metadata": {},
     "output_type": "execute_result"
    }
   ],
   "source": [
    "df_scaled.sample(5)"
   ]
  },
  {
   "cell_type": "markdown",
   "metadata": {},
   "source": [
    "Now, let's get similar records for a given one for every combination"
   ]
  },
  {
   "cell_type": "code",
   "execution_count": 16,
   "metadata": {},
   "outputs": [
    {
     "data": {
      "text/html": [
       "<div>\n",
       "<style scoped>\n",
       "    .dataframe tbody tr th:only-of-type {\n",
       "        vertical-align: middle;\n",
       "    }\n",
       "\n",
       "    .dataframe tbody tr th {\n",
       "        vertical-align: top;\n",
       "    }\n",
       "\n",
       "    .dataframe thead th {\n",
       "        text-align: right;\n",
       "    }\n",
       "</style>\n",
       "<table border=\"1\" class=\"dataframe\">\n",
       "  <thead>\n",
       "    <tr style=\"text-align: right;\">\n",
       "      <th></th>\n",
       "      <th>gender</th>\n",
       "      <th>age</th>\n",
       "      <th>income</th>\n",
       "      <th>family_members</th>\n",
       "      <th>distance</th>\n",
       "    </tr>\n",
       "  </thead>\n",
       "  <tbody>\n",
       "    <tr>\n",
       "      <td>0</td>\n",
       "      <td>1</td>\n",
       "      <td>41</td>\n",
       "      <td>49600.0</td>\n",
       "      <td>1</td>\n",
       "      <td>0.000000</td>\n",
       "    </tr>\n",
       "    <tr>\n",
       "      <td>2022</td>\n",
       "      <td>1</td>\n",
       "      <td>41</td>\n",
       "      <td>49600.0</td>\n",
       "      <td>0</td>\n",
       "      <td>1.000000</td>\n",
       "    </tr>\n",
       "    <tr>\n",
       "      <td>1225</td>\n",
       "      <td>0</td>\n",
       "      <td>42</td>\n",
       "      <td>49600.0</td>\n",
       "      <td>0</td>\n",
       "      <td>1.732051</td>\n",
       "    </tr>\n",
       "    <tr>\n",
       "      <td>4031</td>\n",
       "      <td>1</td>\n",
       "      <td>44</td>\n",
       "      <td>49600.0</td>\n",
       "      <td>2</td>\n",
       "      <td>3.162278</td>\n",
       "    </tr>\n",
       "    <tr>\n",
       "      <td>3424</td>\n",
       "      <td>0</td>\n",
       "      <td>38</td>\n",
       "      <td>49600.0</td>\n",
       "      <td>0</td>\n",
       "      <td>3.316625</td>\n",
       "    </tr>\n",
       "    <tr>\n",
       "      <td>815</td>\n",
       "      <td>1</td>\n",
       "      <td>37</td>\n",
       "      <td>49600.0</td>\n",
       "      <td>2</td>\n",
       "      <td>4.123106</td>\n",
       "    </tr>\n",
       "    <tr>\n",
       "      <td>4661</td>\n",
       "      <td>0</td>\n",
       "      <td>45</td>\n",
       "      <td>49600.0</td>\n",
       "      <td>0</td>\n",
       "      <td>4.242641</td>\n",
       "    </tr>\n",
       "    <tr>\n",
       "      <td>2125</td>\n",
       "      <td>0</td>\n",
       "      <td>37</td>\n",
       "      <td>49600.0</td>\n",
       "      <td>2</td>\n",
       "      <td>4.242641</td>\n",
       "    </tr>\n",
       "    <tr>\n",
       "      <td>2349</td>\n",
       "      <td>1</td>\n",
       "      <td>46</td>\n",
       "      <td>49600.0</td>\n",
       "      <td>2</td>\n",
       "      <td>5.099020</td>\n",
       "    </tr>\n",
       "    <tr>\n",
       "      <td>3900</td>\n",
       "      <td>1</td>\n",
       "      <td>36</td>\n",
       "      <td>49600.0</td>\n",
       "      <td>0</td>\n",
       "      <td>5.099020</td>\n",
       "    </tr>\n",
       "  </tbody>\n",
       "</table>\n",
       "</div>"
      ],
      "text/plain": [
       "      gender  age   income  family_members  distance\n",
       "0          1   41  49600.0               1  0.000000\n",
       "2022       1   41  49600.0               0  1.000000\n",
       "1225       0   42  49600.0               0  1.732051\n",
       "4031       1   44  49600.0               2  3.162278\n",
       "3424       0   38  49600.0               0  3.316625\n",
       "815        1   37  49600.0               2  4.123106\n",
       "4661       0   45  49600.0               0  4.242641\n",
       "2125       0   37  49600.0               2  4.242641\n",
       "2349       1   46  49600.0               2  5.099020\n",
       "3900       1   36  49600.0               0  5.099020"
      ]
     },
     "execution_count": 16,
     "metadata": {},
     "output_type": "execute_result"
    }
   ],
   "source": [
    "# euclidean distance with unscaled data\n",
    "get_knn(df[feature_names], 0, 10, 'euclidean')"
   ]
  },
  {
   "cell_type": "code",
   "execution_count": 17,
   "metadata": {},
   "outputs": [
    {
     "data": {
      "text/html": [
       "<div>\n",
       "<style scoped>\n",
       "    .dataframe tbody tr th:only-of-type {\n",
       "        vertical-align: middle;\n",
       "    }\n",
       "\n",
       "    .dataframe tbody tr th {\n",
       "        vertical-align: top;\n",
       "    }\n",
       "\n",
       "    .dataframe thead th {\n",
       "        text-align: right;\n",
       "    }\n",
       "</style>\n",
       "<table border=\"1\" class=\"dataframe\">\n",
       "  <thead>\n",
       "    <tr style=\"text-align: right;\">\n",
       "      <th></th>\n",
       "      <th>gender</th>\n",
       "      <th>age</th>\n",
       "      <th>income</th>\n",
       "      <th>family_members</th>\n",
       "      <th>distance</th>\n",
       "    </tr>\n",
       "  </thead>\n",
       "  <tbody>\n",
       "    <tr>\n",
       "      <td>0</td>\n",
       "      <td>1.0</td>\n",
       "      <td>0.630769</td>\n",
       "      <td>0.627848</td>\n",
       "      <td>0.166667</td>\n",
       "      <td>0.000000</td>\n",
       "    </tr>\n",
       "    <tr>\n",
       "      <td>2689</td>\n",
       "      <td>1.0</td>\n",
       "      <td>0.630769</td>\n",
       "      <td>0.634177</td>\n",
       "      <td>0.166667</td>\n",
       "      <td>0.006329</td>\n",
       "    </tr>\n",
       "    <tr>\n",
       "      <td>133</td>\n",
       "      <td>1.0</td>\n",
       "      <td>0.615385</td>\n",
       "      <td>0.636709</td>\n",
       "      <td>0.166667</td>\n",
       "      <td>0.017754</td>\n",
       "    </tr>\n",
       "    <tr>\n",
       "      <td>4869</td>\n",
       "      <td>1.0</td>\n",
       "      <td>0.646154</td>\n",
       "      <td>0.637975</td>\n",
       "      <td>0.166667</td>\n",
       "      <td>0.018418</td>\n",
       "    </tr>\n",
       "    <tr>\n",
       "      <td>3275</td>\n",
       "      <td>1.0</td>\n",
       "      <td>0.646154</td>\n",
       "      <td>0.651899</td>\n",
       "      <td>0.166667</td>\n",
       "      <td>0.028550</td>\n",
       "    </tr>\n",
       "    <tr>\n",
       "      <td>1567</td>\n",
       "      <td>1.0</td>\n",
       "      <td>0.615385</td>\n",
       "      <td>0.602532</td>\n",
       "      <td>0.166667</td>\n",
       "      <td>0.029624</td>\n",
       "    </tr>\n",
       "    <tr>\n",
       "      <td>2103</td>\n",
       "      <td>1.0</td>\n",
       "      <td>0.630769</td>\n",
       "      <td>0.596203</td>\n",
       "      <td>0.166667</td>\n",
       "      <td>0.031646</td>\n",
       "    </tr>\n",
       "    <tr>\n",
       "      <td>3365</td>\n",
       "      <td>1.0</td>\n",
       "      <td>0.630769</td>\n",
       "      <td>0.596203</td>\n",
       "      <td>0.166667</td>\n",
       "      <td>0.031646</td>\n",
       "    </tr>\n",
       "    <tr>\n",
       "      <td>124</td>\n",
       "      <td>1.0</td>\n",
       "      <td>0.661538</td>\n",
       "      <td>0.635443</td>\n",
       "      <td>0.166667</td>\n",
       "      <td>0.031693</td>\n",
       "    </tr>\n",
       "    <tr>\n",
       "      <td>3636</td>\n",
       "      <td>1.0</td>\n",
       "      <td>0.615385</td>\n",
       "      <td>0.600000</td>\n",
       "      <td>0.166667</td>\n",
       "      <td>0.031815</td>\n",
       "    </tr>\n",
       "  </tbody>\n",
       "</table>\n",
       "</div>"
      ],
      "text/plain": [
       "      gender       age    income  family_members  distance\n",
       "0        1.0  0.630769  0.627848        0.166667  0.000000\n",
       "2689     1.0  0.630769  0.634177        0.166667  0.006329\n",
       "133      1.0  0.615385  0.636709        0.166667  0.017754\n",
       "4869     1.0  0.646154  0.637975        0.166667  0.018418\n",
       "3275     1.0  0.646154  0.651899        0.166667  0.028550\n",
       "1567     1.0  0.615385  0.602532        0.166667  0.029624\n",
       "2103     1.0  0.630769  0.596203        0.166667  0.031646\n",
       "3365     1.0  0.630769  0.596203        0.166667  0.031646\n",
       "124      1.0  0.661538  0.635443        0.166667  0.031693\n",
       "3636     1.0  0.615385  0.600000        0.166667  0.031815"
      ]
     },
     "execution_count": 17,
     "metadata": {},
     "output_type": "execute_result"
    }
   ],
   "source": [
    "# euclidean distance with scaled data\n",
    "get_knn(df_scaled[feature_names], 0, 10, 'euclidean')"
   ]
  },
  {
   "cell_type": "code",
   "execution_count": 18,
   "metadata": {},
   "outputs": [
    {
     "data": {
      "text/html": [
       "<div>\n",
       "<style scoped>\n",
       "    .dataframe tbody tr th:only-of-type {\n",
       "        vertical-align: middle;\n",
       "    }\n",
       "\n",
       "    .dataframe tbody tr th {\n",
       "        vertical-align: top;\n",
       "    }\n",
       "\n",
       "    .dataframe thead th {\n",
       "        text-align: right;\n",
       "    }\n",
       "</style>\n",
       "<table border=\"1\" class=\"dataframe\">\n",
       "  <thead>\n",
       "    <tr style=\"text-align: right;\">\n",
       "      <th></th>\n",
       "      <th>gender</th>\n",
       "      <th>age</th>\n",
       "      <th>income</th>\n",
       "      <th>family_members</th>\n",
       "      <th>distance</th>\n",
       "    </tr>\n",
       "  </thead>\n",
       "  <tbody>\n",
       "    <tr>\n",
       "      <td>0</td>\n",
       "      <td>1</td>\n",
       "      <td>41</td>\n",
       "      <td>49600.0</td>\n",
       "      <td>1</td>\n",
       "      <td>0.0</td>\n",
       "    </tr>\n",
       "    <tr>\n",
       "      <td>2022</td>\n",
       "      <td>1</td>\n",
       "      <td>41</td>\n",
       "      <td>49600.0</td>\n",
       "      <td>0</td>\n",
       "      <td>1.0</td>\n",
       "    </tr>\n",
       "    <tr>\n",
       "      <td>1225</td>\n",
       "      <td>0</td>\n",
       "      <td>42</td>\n",
       "      <td>49600.0</td>\n",
       "      <td>0</td>\n",
       "      <td>3.0</td>\n",
       "    </tr>\n",
       "    <tr>\n",
       "      <td>4031</td>\n",
       "      <td>1</td>\n",
       "      <td>44</td>\n",
       "      <td>49600.0</td>\n",
       "      <td>2</td>\n",
       "      <td>4.0</td>\n",
       "    </tr>\n",
       "    <tr>\n",
       "      <td>815</td>\n",
       "      <td>1</td>\n",
       "      <td>37</td>\n",
       "      <td>49600.0</td>\n",
       "      <td>2</td>\n",
       "      <td>5.0</td>\n",
       "    </tr>\n",
       "    <tr>\n",
       "      <td>3424</td>\n",
       "      <td>0</td>\n",
       "      <td>38</td>\n",
       "      <td>49600.0</td>\n",
       "      <td>0</td>\n",
       "      <td>5.0</td>\n",
       "    </tr>\n",
       "    <tr>\n",
       "      <td>2125</td>\n",
       "      <td>0</td>\n",
       "      <td>37</td>\n",
       "      <td>49600.0</td>\n",
       "      <td>2</td>\n",
       "      <td>6.0</td>\n",
       "    </tr>\n",
       "    <tr>\n",
       "      <td>3900</td>\n",
       "      <td>1</td>\n",
       "      <td>36</td>\n",
       "      <td>49600.0</td>\n",
       "      <td>0</td>\n",
       "      <td>6.0</td>\n",
       "    </tr>\n",
       "    <tr>\n",
       "      <td>2349</td>\n",
       "      <td>1</td>\n",
       "      <td>46</td>\n",
       "      <td>49600.0</td>\n",
       "      <td>2</td>\n",
       "      <td>6.0</td>\n",
       "    </tr>\n",
       "    <tr>\n",
       "      <td>4661</td>\n",
       "      <td>0</td>\n",
       "      <td>45</td>\n",
       "      <td>49600.0</td>\n",
       "      <td>0</td>\n",
       "      <td>6.0</td>\n",
       "    </tr>\n",
       "  </tbody>\n",
       "</table>\n",
       "</div>"
      ],
      "text/plain": [
       "      gender  age   income  family_members  distance\n",
       "0          1   41  49600.0               1       0.0\n",
       "2022       1   41  49600.0               0       1.0\n",
       "1225       0   42  49600.0               0       3.0\n",
       "4031       1   44  49600.0               2       4.0\n",
       "815        1   37  49600.0               2       5.0\n",
       "3424       0   38  49600.0               0       5.0\n",
       "2125       0   37  49600.0               2       6.0\n",
       "3900       1   36  49600.0               0       6.0\n",
       "2349       1   46  49600.0               2       6.0\n",
       "4661       0   45  49600.0               0       6.0"
      ]
     },
     "execution_count": 18,
     "metadata": {},
     "output_type": "execute_result"
    }
   ],
   "source": [
    "# manhattan (city block) distance with unscaled data\n",
    "get_knn(df[feature_names], 0, 10, 'manhattan')"
   ]
  },
  {
   "cell_type": "code",
   "execution_count": 19,
   "metadata": {},
   "outputs": [
    {
     "data": {
      "text/html": [
       "<div>\n",
       "<style scoped>\n",
       "    .dataframe tbody tr th:only-of-type {\n",
       "        vertical-align: middle;\n",
       "    }\n",
       "\n",
       "    .dataframe tbody tr th {\n",
       "        vertical-align: top;\n",
       "    }\n",
       "\n",
       "    .dataframe thead th {\n",
       "        text-align: right;\n",
       "    }\n",
       "</style>\n",
       "<table border=\"1\" class=\"dataframe\">\n",
       "  <thead>\n",
       "    <tr style=\"text-align: right;\">\n",
       "      <th></th>\n",
       "      <th>gender</th>\n",
       "      <th>age</th>\n",
       "      <th>income</th>\n",
       "      <th>family_members</th>\n",
       "      <th>distance</th>\n",
       "    </tr>\n",
       "  </thead>\n",
       "  <tbody>\n",
       "    <tr>\n",
       "      <td>0</td>\n",
       "      <td>1.0</td>\n",
       "      <td>0.630769</td>\n",
       "      <td>0.627848</td>\n",
       "      <td>0.166667</td>\n",
       "      <td>0.000000</td>\n",
       "    </tr>\n",
       "    <tr>\n",
       "      <td>2689</td>\n",
       "      <td>1.0</td>\n",
       "      <td>0.630769</td>\n",
       "      <td>0.634177</td>\n",
       "      <td>0.166667</td>\n",
       "      <td>0.006329</td>\n",
       "    </tr>\n",
       "    <tr>\n",
       "      <td>133</td>\n",
       "      <td>1.0</td>\n",
       "      <td>0.615385</td>\n",
       "      <td>0.636709</td>\n",
       "      <td>0.166667</td>\n",
       "      <td>0.024245</td>\n",
       "    </tr>\n",
       "    <tr>\n",
       "      <td>4869</td>\n",
       "      <td>1.0</td>\n",
       "      <td>0.646154</td>\n",
       "      <td>0.637975</td>\n",
       "      <td>0.166667</td>\n",
       "      <td>0.025511</td>\n",
       "    </tr>\n",
       "    <tr>\n",
       "      <td>3365</td>\n",
       "      <td>1.0</td>\n",
       "      <td>0.630769</td>\n",
       "      <td>0.596203</td>\n",
       "      <td>0.166667</td>\n",
       "      <td>0.031646</td>\n",
       "    </tr>\n",
       "    <tr>\n",
       "      <td>2103</td>\n",
       "      <td>1.0</td>\n",
       "      <td>0.630769</td>\n",
       "      <td>0.596203</td>\n",
       "      <td>0.166667</td>\n",
       "      <td>0.031646</td>\n",
       "    </tr>\n",
       "    <tr>\n",
       "      <td>124</td>\n",
       "      <td>1.0</td>\n",
       "      <td>0.661538</td>\n",
       "      <td>0.635443</td>\n",
       "      <td>0.166667</td>\n",
       "      <td>0.038364</td>\n",
       "    </tr>\n",
       "    <tr>\n",
       "      <td>4305</td>\n",
       "      <td>1.0</td>\n",
       "      <td>0.630769</td>\n",
       "      <td>0.588608</td>\n",
       "      <td>0.166667</td>\n",
       "      <td>0.039241</td>\n",
       "    </tr>\n",
       "    <tr>\n",
       "      <td>3275</td>\n",
       "      <td>1.0</td>\n",
       "      <td>0.646154</td>\n",
       "      <td>0.651899</td>\n",
       "      <td>0.166667</td>\n",
       "      <td>0.039435</td>\n",
       "    </tr>\n",
       "    <tr>\n",
       "      <td>1567</td>\n",
       "      <td>1.0</td>\n",
       "      <td>0.615385</td>\n",
       "      <td>0.602532</td>\n",
       "      <td>0.166667</td>\n",
       "      <td>0.040701</td>\n",
       "    </tr>\n",
       "  </tbody>\n",
       "</table>\n",
       "</div>"
      ],
      "text/plain": [
       "      gender       age    income  family_members  distance\n",
       "0        1.0  0.630769  0.627848        0.166667  0.000000\n",
       "2689     1.0  0.630769  0.634177        0.166667  0.006329\n",
       "133      1.0  0.615385  0.636709        0.166667  0.024245\n",
       "4869     1.0  0.646154  0.637975        0.166667  0.025511\n",
       "3365     1.0  0.630769  0.596203        0.166667  0.031646\n",
       "2103     1.0  0.630769  0.596203        0.166667  0.031646\n",
       "124      1.0  0.661538  0.635443        0.166667  0.038364\n",
       "4305     1.0  0.630769  0.588608        0.166667  0.039241\n",
       "3275     1.0  0.646154  0.651899        0.166667  0.039435\n",
       "1567     1.0  0.615385  0.602532        0.166667  0.040701"
      ]
     },
     "execution_count": 19,
     "metadata": {},
     "output_type": "execute_result"
    }
   ],
   "source": [
    "# manhattan (city block) distance with scaled data\n",
    "get_knn(df_scaled[feature_names], 0, 10, 'manhattan')"
   ]
  },
  {
   "cell_type": "markdown",
   "metadata": {},
   "source": [
    "Answers to the questions"
   ]
  },
  {
   "cell_type": "markdown",
   "metadata": {},
   "source": [
    "**Does the data being not scaled affect the kNN algorithm? If so, how does that appear?** \n",
    "\n",
    "- The unscaled data affects the kNN algorithm because the algorithm is giving more importance features with higher ranging numbers. \n",
    "- In the task using euclidean distance, \n",
    "    - for unscaled data, the distance metric calculated ranges from 0.00 to 5.09, \n",
    "    - for scaled data, the distance metric range of 0.00 to 0.03. \n",
    "- This shows the impact of data scaling. \n",
    "- With data scaling, the distances are now more comparable than they were before."
   ]
  },
  {
   "cell_type": "markdown",
   "metadata": {},
   "source": [
    "<div class=\"alert alert-success\">\n",
    "<b>Reviewer's comment</b>\n",
    "  \n",
    "Yep, exactly!\n",
    "  \n",
    "</div>"
   ]
  },
  {
   "cell_type": "markdown",
   "metadata": {},
   "source": [
    "**How similar are the results using the Manhattan distance metric (regardless of the scaling)?** \n",
    "\n",
    "We can see just the 1st NN that is identical when applying Manhattan distance metric, the rest of the results are different."
   ]
  },
  {
   "cell_type": "markdown",
   "metadata": {},
   "source": [
    "<div class=\"alert alert-warning\">\n",
    "<b>Reviewer's comment</b>\n",
    "  \n",
    "Not sure if you've understood the question correctly. The task means to compare the results with euclidean metric (applied to unscaled/scaled data) to the results with manhattan metric (applied to unscaled data). They look pretty similar to me. For example (on scaled data) with both euclidean and manhattan metric the top 3 neighbors of 0 are 2689, 133, 4869\n",
    "  \n",
    "</div>"
   ]
  },
  {
   "cell_type": "markdown",
   "metadata": {},
   "source": [
    "<div class=\"alert alert-info\">\n",
    "  Thank you, I thought it was about just the Manhattan distance, yes indeed!\n",
    "</div>"
   ]
  },
  {
   "cell_type": "markdown",
   "metadata": {},
   "source": [
    "# <a id=\"3\"> Task 2. Is Customer Likely to Receive Insurance Benefit?"
   ]
  },
  {
   "cell_type": "markdown",
   "metadata": {},
   "source": [
    "In terms of machine learning we can look at this like a binary classification task."
   ]
  },
  {
   "cell_type": "markdown",
   "metadata": {},
   "source": [
    "With `insurance_benefits` being more than zero as the target, evaluate whether the kNN classification approach can do better than a dummy model.\n",
    "\n",
    "Instructions:\n",
    "- Build a KNN-based classifier and measure its quality with the F1 metric for k=1..10 for both the original data and the scaled one. That'd be interesting to see how k may influece the evaluation metric, and whether scaling the data makes any difference. You can use a ready implemention of the kNN classification algorithm from scikit-learn (check [the link](https://scikit-learn.org/stable/modules/generated/sklearn.neighbors.KNeighborsClassifier.html)) or use your own.\n",
    "- Build the dummy model which is just random for this case. It should return \"1\" with some probability. Let's test the model with four probability values: 0, the probability of paying any insurance benefit, 0.5, 1.\n",
    "\n",
    "The probability of paying any insurance benefit can be defined as\n",
    "\n",
    "$$\n",
    "P\\{\\text{insurance benefit received}\\}=\\frac{\\text{number of clients received any insurance benefit}}{\\text{total number of clients}}.\n",
    "$$\n",
    "\n",
    "Split the whole data in the 70:30 proportion for the training/testing parts."
   ]
  },
  {
   "cell_type": "code",
   "execution_count": 20,
   "metadata": {},
   "outputs": [],
   "source": [
    "# calculate the target\n",
    "df['insurance_benefits_received'] = (df['insurance_benefits'] > 0).astype(int)\n",
    "#<your code here>"
   ]
  },
  {
   "cell_type": "markdown",
   "metadata": {},
   "source": [
    "<div class=\"alert alert-success\">\n",
    "<b>Reviewer's comment</b>\n",
    "  \n",
    "Yep, that's correct\n",
    "  \n",
    "</div>"
   ]
  },
  {
   "cell_type": "code",
   "execution_count": 21,
   "metadata": {},
   "outputs": [
    {
     "data": {
      "text/plain": [
       "0    4436\n",
       "1     564\n",
       "Name: insurance_benefits_received, dtype: int64"
      ]
     },
     "execution_count": 21,
     "metadata": {},
     "output_type": "execute_result"
    }
   ],
   "source": [
    "# check for the class imbalance with value_counts()\n",
    "df['insurance_benefits_received'].value_counts()\n",
    "# <your code here>"
   ]
  },
  {
   "cell_type": "code",
   "execution_count": 22,
   "metadata": {},
   "outputs": [],
   "source": [
    "def eval_classifier(y_true, y_pred):\n",
    "    \n",
    "    f1_score = sklearn.metrics.f1_score(y_true, y_pred)\n",
    "    print(f'F1: {f1_score:.2f}')\n",
    "    \n",
    "    cm = sklearn.metrics.confusion_matrix(y_true, y_pred)\n",
    "    print('Confusion Matrix')\n",
    "    print(cm)"
   ]
  },
  {
   "cell_type": "code",
   "execution_count": 23,
   "metadata": {},
   "outputs": [],
   "source": [
    "# generating output of a random model\n",
    "\n",
    "def rnd_model_predict(P, size, seed=42):\n",
    "\n",
    "    rng = np.random.default_rng(seed=seed)\n",
    "    return rng.binomial(n=1, p=P, size=size)"
   ]
  },
  {
   "cell_type": "markdown",
   "metadata": {},
   "source": [
    "**Measure F1 metric on original data using KNN-based classifier**"
   ]
  },
  {
   "cell_type": "code",
   "execution_count": 24,
   "metadata": {},
   "outputs": [],
   "source": [
    "# split data into train and test sets\n",
    "train, test = train_test_split(df, test_size=0.3, stratify=df['insurance_benefits_received'], random_state=12345)\n",
    "\n",
    "X_train = train[feature_names]\n",
    "X_test = test[feature_names]\n",
    "y_train = train['insurance_benefits_received']\n",
    "y_test = test['insurance_benefits_received']"
   ]
  },
  {
   "cell_type": "code",
   "execution_count": 25,
   "metadata": {},
   "outputs": [
    {
     "data": {
      "text/plain": [
       "KNeighborsClassifier(algorithm='auto', leaf_size=30, metric='minkowski',\n",
       "                     metric_params=None, n_jobs=None, n_neighbors=3, p=2,\n",
       "                     weights='uniform')"
      ]
     },
     "execution_count": 25,
     "metadata": {},
     "output_type": "execute_result"
    }
   ],
   "source": [
    "# fit the data\n",
    "knn = sklearn.neighbors.KNeighborsClassifier(n_neighbors=3)\n",
    "knn.fit(X_train, y_train)"
   ]
  },
  {
   "cell_type": "code",
   "execution_count": 26,
   "metadata": {},
   "outputs": [
    {
     "data": {
      "text/plain": [
       "68"
      ]
     },
     "execution_count": 26,
     "metadata": {},
     "output_type": "execute_result"
    }
   ],
   "source": [
    "#prediction\n",
    "knn.predict(X_test).sum()"
   ]
  },
  {
   "cell_type": "code",
   "execution_count": 27,
   "metadata": {},
   "outputs": [
    {
     "name": "stdout",
     "output_type": "stream",
     "text": [
      "F1: 0.40\n",
      "Confusion Matrix\n",
      "[[1310   21]\n",
      " [ 122   47]]\n"
     ]
    }
   ],
   "source": [
    "# evaluate metrics\n",
    "eval_classifier(y_test, knn.predict(X_test))"
   ]
  },
  {
   "cell_type": "code",
   "execution_count": 28,
   "metadata": {},
   "outputs": [
    {
     "name": "stdout",
     "output_type": "stream",
     "text": [
      "F1 score and confusion matrix for k: 1\n",
      "F1: 0.59\n",
      "Confusion Matrix\n",
      "[[1309   22]\n",
      " [  90   79]]\n",
      "\n",
      "F1 score and confusion matrix for k: 2\n",
      "F1: 0.39\n",
      "Confusion Matrix\n",
      "[[1324    7]\n",
      " [ 126   43]]\n",
      "\n",
      "F1 score and confusion matrix for k: 3\n",
      "F1: 0.40\n",
      "Confusion Matrix\n",
      "[[1310   21]\n",
      " [ 122   47]]\n",
      "\n",
      "F1 score and confusion matrix for k: 4\n",
      "F1: 0.16\n",
      "Confusion Matrix\n",
      "[[1325    6]\n",
      " [ 154   15]]\n",
      "\n",
      "F1 score and confusion matrix for k: 5\n",
      "F1: 0.15\n",
      "Confusion Matrix\n",
      "[[1320   11]\n",
      " [ 154   15]]\n",
      "\n",
      "F1 score and confusion matrix for k: 6\n",
      "F1: 0.06\n",
      "Confusion Matrix\n",
      "[[1331    0]\n",
      " [ 164    5]]\n",
      "\n",
      "F1 score and confusion matrix for k: 7\n",
      "F1: 0.07\n",
      "Confusion Matrix\n",
      "[[1330    1]\n",
      " [ 163    6]]\n",
      "\n",
      "F1 score and confusion matrix for k: 8\n",
      "F1: 0.05\n",
      "Confusion Matrix\n",
      "[[1331    0]\n",
      " [ 165    4]]\n",
      "\n",
      "F1 score and confusion matrix for k: 9\n",
      "F1: 0.05\n",
      "Confusion Matrix\n",
      "[[1331    0]\n",
      " [ 165    4]]\n",
      "\n",
      "F1 score and confusion matrix for k: 10\n",
      "F1: 0.00\n",
      "Confusion Matrix\n",
      "[[1331    0]\n",
      " [ 169    0]]\n",
      "\n"
     ]
    },
    {
     "name": "stderr",
     "output_type": "stream",
     "text": [
      "/opt/conda/lib/python3.7/site-packages/sklearn/metrics/classification.py:1437: UndefinedMetricWarning: F-score is ill-defined and being set to 0.0 due to no predicted samples.\n",
      "  'precision', 'predicted', average, warn_for)\n"
     ]
    }
   ],
   "source": [
    "# model performance using unscaled data and k from 1 to 10\n",
    "k = np.arange(1, 11)\n",
    "for k in k:\n",
    "    print('F1 score and confusion matrix for k:', k)\n",
    "    knn = sklearn.neighbors.KNeighborsClassifier(n_neighbors=k) \n",
    "    knn.fit(X_train, y_train)\n",
    "    knn.predict(X_test)\n",
    "    eval_classifier(y_test, knn.predict(X_test))\n",
    "    print()"
   ]
  },
  {
   "cell_type": "markdown",
   "metadata": {},
   "source": [
    "- We can see here that *k* has an influence on evaluation metrics.\n",
    "    - the higher *k* is, the lower F1 score is.\n",
    "- The highest value of F1 score is obtained on *k* = 1"
   ]
  },
  {
   "cell_type": "markdown",
   "metadata": {},
   "source": [
    "**Measure F1 metric on scaled data using KNN-based classifier**"
   ]
  },
  {
   "cell_type": "code",
   "execution_count": 29,
   "metadata": {},
   "outputs": [
    {
     "data": {
      "text/html": [
       "<div>\n",
       "<style scoped>\n",
       "    .dataframe tbody tr th:only-of-type {\n",
       "        vertical-align: middle;\n",
       "    }\n",
       "\n",
       "    .dataframe tbody tr th {\n",
       "        vertical-align: top;\n",
       "    }\n",
       "\n",
       "    .dataframe thead th {\n",
       "        text-align: right;\n",
       "    }\n",
       "</style>\n",
       "<table border=\"1\" class=\"dataframe\">\n",
       "  <thead>\n",
       "    <tr style=\"text-align: right;\">\n",
       "      <th></th>\n",
       "      <th>gender</th>\n",
       "      <th>age</th>\n",
       "      <th>income</th>\n",
       "      <th>family_members</th>\n",
       "      <th>insurance_benefits</th>\n",
       "      <th>insurance_benefits_received</th>\n",
       "    </tr>\n",
       "  </thead>\n",
       "  <tbody>\n",
       "    <tr>\n",
       "      <td>0</td>\n",
       "      <td>1.0</td>\n",
       "      <td>0.630769</td>\n",
       "      <td>0.627848</td>\n",
       "      <td>0.166667</td>\n",
       "      <td>0</td>\n",
       "      <td>0</td>\n",
       "    </tr>\n",
       "    <tr>\n",
       "      <td>1</td>\n",
       "      <td>0.0</td>\n",
       "      <td>0.707692</td>\n",
       "      <td>0.481013</td>\n",
       "      <td>0.166667</td>\n",
       "      <td>1</td>\n",
       "      <td>1</td>\n",
       "    </tr>\n",
       "    <tr>\n",
       "      <td>2</td>\n",
       "      <td>0.0</td>\n",
       "      <td>0.446154</td>\n",
       "      <td>0.265823</td>\n",
       "      <td>0.000000</td>\n",
       "      <td>0</td>\n",
       "      <td>0</td>\n",
       "    </tr>\n",
       "    <tr>\n",
       "      <td>3</td>\n",
       "      <td>0.0</td>\n",
       "      <td>0.323077</td>\n",
       "      <td>0.527848</td>\n",
       "      <td>0.333333</td>\n",
       "      <td>0</td>\n",
       "      <td>0</td>\n",
       "    </tr>\n",
       "    <tr>\n",
       "      <td>4</td>\n",
       "      <td>1.0</td>\n",
       "      <td>0.430769</td>\n",
       "      <td>0.330380</td>\n",
       "      <td>0.000000</td>\n",
       "      <td>0</td>\n",
       "      <td>0</td>\n",
       "    </tr>\n",
       "  </tbody>\n",
       "</table>\n",
       "</div>"
      ],
      "text/plain": [
       "   gender       age    income  family_members  insurance_benefits  \\\n",
       "0     1.0  0.630769  0.627848        0.166667                   0   \n",
       "1     0.0  0.707692  0.481013        0.166667                   1   \n",
       "2     0.0  0.446154  0.265823        0.000000                   0   \n",
       "3     0.0  0.323077  0.527848        0.333333                   0   \n",
       "4     1.0  0.430769  0.330380        0.000000                   0   \n",
       "\n",
       "   insurance_benefits_received  \n",
       "0                            0  \n",
       "1                            1  \n",
       "2                            0  \n",
       "3                            0  \n",
       "4                            0  "
      ]
     },
     "execution_count": 29,
     "metadata": {},
     "output_type": "execute_result"
    }
   ],
   "source": [
    "# calculate target for scaled data\n",
    "df_scaled['insurance_benefits_received'] = (df_scaled['insurance_benefits'] > 0).astype(int)\n",
    "df_scaled.head()"
   ]
  },
  {
   "cell_type": "code",
   "execution_count": 30,
   "metadata": {},
   "outputs": [],
   "source": [
    "#feature and traget for unscaled data\n",
    "X = df[feature_names]\n",
    "y = df['insurance_benefits_received']"
   ]
  },
  {
   "cell_type": "code",
   "execution_count": 31,
   "metadata": {},
   "outputs": [],
   "source": [
    "# produce only feature columns for scaled data\n",
    "X_scaled = df_scaled[feature_names]"
   ]
  },
  {
   "cell_type": "code",
   "execution_count": 32,
   "metadata": {},
   "outputs": [],
   "source": [
    "# split data into train and test sets\n",
    "X_train, X_test, y_train, y_test, X_train_scaled, X_test_scaled = train_test_split(\n",
    "    X, y, X_scaled, test_size = 0.3, random_state=12345\n",
    ")"
   ]
  },
  {
   "cell_type": "code",
   "execution_count": 33,
   "metadata": {},
   "outputs": [
    {
     "name": "stdout",
     "output_type": "stream",
     "text": [
      "F1 score and confusion matrix for k: 1\n",
      "F1: 0.97\n",
      "Confusion Matrix\n",
      "[[1333    4]\n",
      " [   7  156]]\n",
      "\n",
      "F1 score and confusion matrix for k: 2\n",
      "F1: 0.93\n",
      "Confusion Matrix\n",
      "[[1336    1]\n",
      " [  21  142]]\n",
      "\n",
      "F1 score and confusion matrix for k: 3\n",
      "F1: 0.95\n",
      "Confusion Matrix\n",
      "[[1334    3]\n",
      " [  13  150]]\n",
      "\n",
      "F1 score and confusion matrix for k: 4\n",
      "F1: 0.91\n",
      "Confusion Matrix\n",
      "[[1334    3]\n",
      " [  25  138]]\n",
      "\n",
      "F1 score and confusion matrix for k: 5\n",
      "F1: 0.92\n",
      "Confusion Matrix\n",
      "[[1330    7]\n",
      " [  17  146]]\n",
      "\n",
      "F1 score and confusion matrix for k: 6\n",
      "F1: 0.90\n",
      "Confusion Matrix\n",
      "[[1335    2]\n",
      " [  27  136]]\n",
      "\n",
      "F1 score and confusion matrix for k: 7\n",
      "F1: 0.92\n",
      "Confusion Matrix\n",
      "[[1331    6]\n",
      " [  19  144]]\n",
      "\n",
      "F1 score and confusion matrix for k: 8\n",
      "F1: 0.90\n",
      "Confusion Matrix\n",
      "[[1333    4]\n",
      " [  26  137]]\n",
      "\n",
      "F1 score and confusion matrix for k: 9\n",
      "F1: 0.92\n",
      "Confusion Matrix\n",
      "[[1333    4]\n",
      " [  22  141]]\n",
      "\n",
      "F1 score and confusion matrix for k: 10\n",
      "F1: 0.88\n",
      "Confusion Matrix\n",
      "[[1333    4]\n",
      " [  32  131]]\n",
      "\n"
     ]
    }
   ],
   "source": [
    "# model performance using scaled data and k from 1 to 10\n",
    "k = np.arange(1, 11)\n",
    "for k in k:\n",
    "    print('F1 score and confusion matrix for k:', k)\n",
    "    model = sklearn.neighbors.KNeighborsClassifier(n_neighbors=k)\n",
    "    model.fit(X_train_scaled, y_train)\n",
    "    y_pred = model.predict(X_test_scaled)\n",
    "    eval_classifier(y_test, y_pred)\n",
    "    print()"
   ]
  },
  {
   "cell_type": "markdown",
   "metadata": {},
   "source": [
    "- We can see here, with a scaled data, that F1 slightly decreased by inscreasing *k*"
   ]
  },
  {
   "cell_type": "markdown",
   "metadata": {},
   "source": [
    "**The probability of paying any insurance benefit is:**"
   ]
  },
  {
   "cell_type": "code",
   "execution_count": 34,
   "metadata": {},
   "outputs": [
    {
     "name": "stdout",
     "output_type": "stream",
     "text": [
      "The probability: 0.00\n",
      "F1: 0.00\n",
      "Confusion Matrix\n",
      "[[1337    0]\n",
      " [ 163    0]]\n",
      "\n",
      "The probability: 0.11\n",
      "F1: 0.11\n",
      "Confusion Matrix\n",
      "[[1180  157]\n",
      " [ 144   19]]\n",
      "\n",
      "The probability: 0.50\n",
      "F1: 0.16\n",
      "Confusion Matrix\n",
      "[[668 669]\n",
      " [ 90  73]]\n",
      "\n",
      "The probability: 1.00\n",
      "F1: 0.20\n",
      "Confusion Matrix\n",
      "[[   0 1337]\n",
      " [   0  163]]\n",
      "\n"
     ]
    },
    {
     "name": "stderr",
     "output_type": "stream",
     "text": [
      "/opt/conda/lib/python3.7/site-packages/sklearn/metrics/classification.py:1437: UndefinedMetricWarning: F-score is ill-defined and being set to 0.0 due to no predicted samples.\n",
      "  'precision', 'predicted', average, warn_for)\n"
     ]
    }
   ],
   "source": [
    "for P in [0, df['insurance_benefits_received'].sum() / len(df), 0.5, 1]:\n",
    "\n",
    "    print(f'The probability: {P:.2f}')\n",
    "    y_pred_rnd =  rnd_model_predict(P, y_test.shape[0]) # <your code here> \n",
    "        \n",
    "    eval_classifier(y_test, y_pred_rnd)\n",
    "    \n",
    "    print()"
   ]
  },
  {
   "cell_type": "markdown",
   "metadata": {},
   "source": [
    "- The model is giving a highest score at p = 1 with F1 = 0.20"
   ]
  },
  {
   "cell_type": "code",
   "execution_count": 35,
   "metadata": {},
   "outputs": [],
   "source": [
    "#myclassifier\n",
    "class MyClassifier():\n",
    "    def __init__(self, n_neighbors, metric='euclidean', threshold = 0.5):\n",
    "        self.n_neighbors = n_neighbors\n",
    "        self.metric = metric\n",
    "        self.nn = sklearn.neighbors.NearestNeighbors(n_neighbors=n_neighbors, metric=metric)\n",
    "        self.threshold = threshold\n",
    "        \n",
    "    def fit(self, X, y):\n",
    "        self.features = X\n",
    "        self.target = y\n",
    "        self.nn.fit(self.features)\n",
    "        \n",
    "    def predict(self, X):\n",
    "        nbrs_distances, nbrs_indices = self.nn.kneighbors(X, self.n_neighbors, return_distance=True)\n",
    "        probabilities = []\n",
    "        for elem in nbrs_indices:\n",
    "            probability = self.target.iloc[elem].mean()\n",
    "            probabilities.append(probability)\n",
    "        return (np.array(probabilities) >= self.threshold).astype(int)"
   ]
  },
  {
   "cell_type": "code",
   "execution_count": 36,
   "metadata": {},
   "outputs": [],
   "source": [
    "model = MyClassifier(n_neighbors = 3)\n",
    "model.fit(X_train, y_train)"
   ]
  },
  {
   "cell_type": "code",
   "execution_count": 37,
   "metadata": {},
   "outputs": [
    {
     "data": {
      "text/plain": [
       "63"
      ]
     },
     "execution_count": 37,
     "metadata": {},
     "output_type": "execute_result"
    }
   ],
   "source": [
    "model.predict(X_test).sum()"
   ]
  },
  {
   "cell_type": "code",
   "execution_count": 38,
   "metadata": {},
   "outputs": [
    {
     "data": {
      "text/plain": [
       "1"
      ]
     },
     "execution_count": 38,
     "metadata": {},
     "output_type": "execute_result"
    }
   ],
   "source": [
    "knn.predict(X_test).sum()"
   ]
  },
  {
   "cell_type": "code",
   "execution_count": 39,
   "metadata": {},
   "outputs": [
    {
     "data": {
      "text/plain": [
       "62"
      ]
     },
     "execution_count": 39,
     "metadata": {},
     "output_type": "execute_result"
    }
   ],
   "source": [
    "(model.predict(X_test) != knn.predict(X_test)).sum()"
   ]
  },
  {
   "cell_type": "markdown",
   "metadata": {},
   "source": [
    "**Conclusion**\n",
    "\n",
    "- For unscaled data: k has an influence in evalution metrics. When k is high, F1 is low.\n",
    "- For scaled data: k influence slightly F1 score, the higher k is the lower F1 is. And we also obtained higher values of F1 score.\n",
    "- The dummy gave a highest score at p = 1 with F1 = 0.20, and we can say that all customers will benefit from the insurance."
   ]
  },
  {
   "cell_type": "markdown",
   "metadata": {},
   "source": [
    "<div class=\"alert alert-success\">\n",
    "<b>Reviewer's comment</b>\n",
    "  \n",
    "Great, you successfully applied knn to a classification problem. As you confirmed, scaling greatly influences the quality of distance-based models like knn.\n",
    "  \n",
    "</div>"
   ]
  },
  {
   "cell_type": "markdown",
   "metadata": {},
   "source": [
    "# <a id=\"4\"> Task 3. Regression (with Linear Regression)"
   ]
  },
  {
   "cell_type": "markdown",
   "metadata": {},
   "source": [
    "With `insurance_benefits` as the target, evaluate what RMSE would be for a Linear Regression model."
   ]
  },
  {
   "cell_type": "markdown",
   "metadata": {},
   "source": [
    "Build your own implementation of LR. For that, recall how the linear regression task's solution is formulated in terms of LA. Check RMSE for both the original data and the scaled one. Can you see any difference in RMSE between these two cases?\n",
    "\n",
    "Let's denote\n",
    "- $X$ — feature matrix, each row is a case, each column is a feature, the first column consists of unities\n",
    "- $y$ — target (a vector)\n",
    "- $\\hat{y}$ — estimated tagret (a vector)\n",
    "- $w$ — weight vector\n",
    "\n",
    "The task of linear regression in the language of matrices can be formulated as\n",
    "\n",
    "$$\n",
    "y = Xw\n",
    "$$\n",
    "\n",
    "The training objective then is to find such $w$ that it would minimize the L2-distance (MSE) between $Xw$ and $y$:\n",
    "\n",
    "$$\n",
    "\\min_w d_2(Xw, y) \\quad \\text{or} \\quad \\min_w \\text{MSE}(Xw, y)\n",
    "$$\n",
    "\n",
    "It appears that there is analytical solution for the above:\n",
    "\n",
    "$$\n",
    "w = (X^T X)^{-1} X^T y\n",
    "$$\n",
    "\n",
    "The formula above can be used to find the weights $w$ and the latter can be used to calculate predicted values\n",
    "\n",
    "$$\n",
    "\\hat{y} = X_{val}w\n",
    "$$"
   ]
  },
  {
   "cell_type": "markdown",
   "metadata": {},
   "source": [
    "Split the whole data in the 70:30 proportion for the training/validation parts. Use the RMSE metric for the model evaluation."
   ]
  },
  {
   "cell_type": "code",
   "execution_count": 40,
   "metadata": {},
   "outputs": [],
   "source": [
    "class MyLinearRegression:\n",
    "    \n",
    "    def __init__(self):\n",
    "        \n",
    "        self.weights = None\n",
    "    \n",
    "    def fit(self, X, y):\n",
    "        \n",
    "        # adding the unities\n",
    "        X2 = np.append(np.ones([len(X), 1]), X, axis=1)\n",
    "        self.weights = np.linalg.inv(X2.T.dot(X2)).dot(X2.T).dot(y)\n",
    "        # <your code here>\n",
    "\n",
    "    def predict(self, X):\n",
    "        \n",
    "        # adding the unities\n",
    "        X2 = np.append(np.ones([len(X), 1]), X, axis=1)\n",
    "        y_pred = X2.dot(self.weights)\n",
    "        \n",
    "        return y_pred"
   ]
  },
  {
   "cell_type": "markdown",
   "metadata": {},
   "source": [
    "<div class=\"alert alert-success\">\n",
    "<b>Reviewer's comment</b>\n",
    "  \n",
    "Linear regression was implemented correctly!\n",
    "  \n",
    "</div>"
   ]
  },
  {
   "cell_type": "code",
   "execution_count": 41,
   "metadata": {},
   "outputs": [],
   "source": [
    "def eval_regressor(y_true, y_pred):\n",
    "    \n",
    "    rmse = math.sqrt(sklearn.metrics.mean_squared_error(y_true, y_pred))\n",
    "    print(f'RMSE: {rmse:.2f}')\n",
    "    \n",
    "    r2_score = math.sqrt(sklearn.metrics.r2_score(y_true, y_pred))\n",
    "    print(f'R2: {r2_score:.2f}')    "
   ]
  },
  {
   "cell_type": "markdown",
   "metadata": {},
   "source": [
    "**Linear Regression for original data**"
   ]
  },
  {
   "cell_type": "code",
   "execution_count": 42,
   "metadata": {},
   "outputs": [
    {
     "name": "stdout",
     "output_type": "stream",
     "text": [
      "[-9.43539012e-01  3.57495491e-02  1.64272726e-02 -2.60743659e-07\n",
      " -1.16902127e-02]\n",
      "RMSE: 0.34\n",
      "R2: 0.66\n"
     ]
    }
   ],
   "source": [
    "X = df[['age', 'gender', 'income', 'family_members']].to_numpy()\n",
    "y = df['insurance_benefits'].to_numpy()\n",
    "\n",
    "X_train, X_test, y_train, y_test = train_test_split(X, y, test_size=0.3, random_state=12345)\n",
    "\n",
    "lr = MyLinearRegression()\n",
    "\n",
    "lr.fit(X_train, y_train)\n",
    "print(lr.weights)\n",
    "\n",
    "y_test_pred = lr.predict(X_test)\n",
    "eval_regressor(y_test, y_test_pred)"
   ]
  },
  {
   "cell_type": "markdown",
   "metadata": {},
   "source": [
    "**Linear Regression for scaled data**"
   ]
  },
  {
   "cell_type": "code",
   "execution_count": 43,
   "metadata": {},
   "outputs": [
    {
     "name": "stdout",
     "output_type": "stream",
     "text": [
      "[-0.94353901  2.32372069  0.01642727 -0.02059875 -0.07014128]\n",
      "RMSE: 0.34\n",
      "R2: 0.66\n"
     ]
    }
   ],
   "source": [
    "X = df_scaled[['age', 'gender', 'income', 'family_members']].to_numpy()\n",
    "y = df_scaled['insurance_benefits'].to_numpy()\n",
    "\n",
    "X_train, X_test, y_train, y_test = train_test_split(X, y, test_size=0.3, random_state=12345)\n",
    "\n",
    "lr = MyLinearRegression()\n",
    "\n",
    "lr.fit(X_train, y_train)\n",
    "print(lr.weights)\n",
    "\n",
    "y_test_pred = lr.predict(X_test)\n",
    "eval_regressor(y_test, y_test_pred)"
   ]
  },
  {
   "cell_type": "markdown",
   "metadata": {},
   "source": [
    "**Conclusion**\n",
    "- We can see that, comparing the RMSE and R2 score between scaled and unscaled data, the evaluation metric still gave the same result. \n",
    "- The difference we can see is in the weights of the models. On scaled data, the model trained is more interpretable than the unscaled data."
   ]
  },
  {
   "cell_type": "markdown",
   "metadata": {},
   "source": [
    "<div class=\"alert alert-success\">\n",
    "<b>Reviewer's comment</b>\n",
    "  \n",
    "Well done!\n",
    "  \n",
    "</div>"
   ]
  },
  {
   "cell_type": "markdown",
   "metadata": {},
   "source": [
    "# <a id=\"5\"> Task 4. Obfuscating Data"
   ]
  },
  {
   "cell_type": "markdown",
   "metadata": {},
   "source": [
    "It best to obfuscate data by multiplying the numerical features (remember, they can be seen as the matrix $X$) by an invertible matrix $P$. \n",
    "\n",
    "$$\n",
    "X' = X \\times P\n",
    "$$\n",
    "\n",
    "Try to do that and check how the features' values will look like after the transformation. By the way, the intertible property is important here so make sure that $P$ is indeed invertible.\n",
    "\n",
    "You may want to review the 'Matrices and Matrix Operations -> Matrix Mupliplication' lesson to recall the rule of matrix multiplication and its implementation with NumPy."
   ]
  },
  {
   "cell_type": "code",
   "execution_count": 44,
   "metadata": {},
   "outputs": [],
   "source": [
    "personal_info_column_list = ['gender', 'age', 'income', 'family_members']\n",
    "df_pn = df[personal_info_column_list]"
   ]
  },
  {
   "cell_type": "code",
   "execution_count": 45,
   "metadata": {},
   "outputs": [],
   "source": [
    "X = df_pn.to_numpy()"
   ]
  },
  {
   "cell_type": "code",
   "execution_count": 46,
   "metadata": {},
   "outputs": [
    {
     "data": {
      "text/plain": [
       "array([[1.00e+00, 4.10e+01, 4.96e+04, 1.00e+00],\n",
       "       [0.00e+00, 4.60e+01, 3.80e+04, 1.00e+00],\n",
       "       [0.00e+00, 2.90e+01, 2.10e+04, 0.00e+00],\n",
       "       ...,\n",
       "       [0.00e+00, 2.00e+01, 3.39e+04, 2.00e+00],\n",
       "       [1.00e+00, 2.20e+01, 3.27e+04, 3.00e+00],\n",
       "       [1.00e+00, 2.80e+01, 4.06e+04, 1.00e+00]])"
      ]
     },
     "execution_count": 46,
     "metadata": {},
     "output_type": "execute_result"
    }
   ],
   "source": [
    "X"
   ]
  },
  {
   "cell_type": "markdown",
   "metadata": {},
   "source": [
    "Generating a random matrix $P$."
   ]
  },
  {
   "cell_type": "code",
   "execution_count": 47,
   "metadata": {},
   "outputs": [],
   "source": [
    "rng = np.random.default_rng(seed=42)\n",
    "P = rng.random(size=(X.shape[1], X.shape[1]))"
   ]
  },
  {
   "cell_type": "markdown",
   "metadata": {},
   "source": [
    "Checking the matrix $P$ is invertible"
   ]
  },
  {
   "cell_type": "code",
   "execution_count": 48,
   "metadata": {},
   "outputs": [
    {
     "data": {
      "text/plain": [
       "array([[0.77395605, 0.43887844, 0.85859792, 0.69736803],\n",
       "       [0.09417735, 0.97562235, 0.7611397 , 0.78606431],\n",
       "       [0.12811363, 0.45038594, 0.37079802, 0.92676499],\n",
       "       [0.64386512, 0.82276161, 0.4434142 , 0.22723872]])"
      ]
     },
     "execution_count": 48,
     "metadata": {},
     "output_type": "execute_result"
    }
   ],
   "source": [
    "P"
   ]
  },
  {
   "cell_type": "code",
   "execution_count": 49,
   "metadata": {},
   "outputs": [
    {
     "data": {
      "text/plain": [
       "array([[ 1.00000000e+00,  1.85130588e-16, -2.97856902e-16,\n",
       "        -3.91584367e-17],\n",
       "       [ 6.23834470e-17,  1.00000000e+00, -7.10568689e-17,\n",
       "         8.24459807e-17],\n",
       "       [ 1.03941594e-17,  2.27454503e-17,  1.00000000e+00,\n",
       "        -5.77784356e-17],\n",
       "       [-1.02697151e-16, -1.69379178e-16, -2.49945035e-17,\n",
       "         1.00000000e+00]])"
      ]
     },
     "execution_count": 49,
     "metadata": {},
     "output_type": "execute_result"
    }
   ],
   "source": [
    "np.matmul(P, np.linalg.inv(P))"
   ]
  },
  {
   "cell_type": "markdown",
   "metadata": {},
   "source": [
    "- We can see here that P is invertible since we have Ones in the diagonal. "
   ]
  },
  {
   "cell_type": "markdown",
   "metadata": {},
   "source": [
    "Can you guess the customers' ages or income after the transformation?"
   ]
  },
  {
   "cell_type": "code",
   "execution_count": 50,
   "metadata": {},
   "outputs": [
    {
     "data": {
      "text/plain": [
       "array([[ 6359.71527314, 22380.40467609, 18424.09074184, 46000.69669016],\n",
       "       [ 4873.29406479, 17160.36702982, 14125.78076133, 35253.45577301],\n",
       "       [ 2693.11742928,  9486.397744  ,  7808.83156024, 19484.86063067],\n",
       "       ...,\n",
       "       [ 4346.2234249 , 15289.24126492, 12586.16264392, 31433.50888552],\n",
       "       [ 4194.09324155, 14751.9910242 , 12144.02930637, 30323.88763426],\n",
       "       [ 5205.46827354, 18314.24814446, 15077.01370762, 37649.59295455]])"
      ]
     },
     "execution_count": 50,
     "metadata": {},
     "output_type": "execute_result"
    }
   ],
   "source": [
    "X_prime = np.matmul(X, P)\n",
    "X_prime"
   ]
  },
  {
   "cell_type": "markdown",
   "metadata": {},
   "source": [
    "Can you recover the original data from $X'$ if you know $P$? Try to check that with calculations by moving $P$ from the right side of the formula above to the left one. The rules of matrix multiplcation are really helpful here."
   ]
  },
  {
   "cell_type": "code",
   "execution_count": 51,
   "metadata": {},
   "outputs": [
    {
     "data": {
      "text/plain": [
       "array([[ 1.00000000e+00,  4.10000000e+01,  4.96000000e+04,\n",
       "         1.00000000e+00],\n",
       "       [ 1.67952800e-12,  4.60000000e+01,  3.80000000e+04,\n",
       "         1.00000000e+00],\n",
       "       [-6.23021448e-13,  2.90000000e+01,  2.10000000e+04,\n",
       "        -2.03032656e-13],\n",
       "       ...,\n",
       "       [ 1.57996161e-12,  2.00000000e+01,  3.39000000e+04,\n",
       "         2.00000000e+00],\n",
       "       [ 1.00000000e+00,  2.20000000e+01,  3.27000000e+04,\n",
       "         3.00000000e+00],\n",
       "       [ 1.00000000e+00,  2.80000000e+01,  4.06000000e+04,\n",
       "         1.00000000e+00]])"
      ]
     },
     "execution_count": 51,
     "metadata": {},
     "output_type": "execute_result"
    }
   ],
   "source": [
    "X_rec = X_prime.dot(np.linalg.inv(P))\n",
    "X_rec"
   ]
  },
  {
   "cell_type": "markdown",
   "metadata": {},
   "source": [
    "Print all three cases for a few customers\n",
    "- The original data\n",
    "- The transformed one\n",
    "- The reversed (recovered) one"
   ]
  },
  {
   "cell_type": "code",
   "execution_count": 52,
   "metadata": {},
   "outputs": [
    {
     "name": "stdout",
     "output_type": "stream",
     "text": [
      "Original data \n",
      " [[1.00e+00 4.10e+01 4.96e+04 1.00e+00]\n",
      " [0.00e+00 4.60e+01 3.80e+04 1.00e+00]\n",
      " [0.00e+00 2.90e+01 2.10e+04 0.00e+00]]\n",
      "\n",
      "Transformed data \n",
      " [[ 6359.71527314 22380.40467609 18424.09074184 46000.69669016]\n",
      " [ 4873.29406479 17160.36702982 14125.78076133 35253.45577301]\n",
      " [ 2693.11742928  9486.397744    7808.83156024 19484.86063067]]\n",
      "\n",
      "Reversed (recovered) data \n",
      " [[ 1.00000000e+00  4.10000000e+01  4.96000000e+04  1.00000000e+00]\n",
      " [ 1.67952800e-12  4.60000000e+01  3.80000000e+04  1.00000000e+00]\n",
      " [-6.23021448e-13  2.90000000e+01  2.10000000e+04 -2.03032656e-13]]\n",
      "\n"
     ]
    }
   ],
   "source": [
    "print('Original data \\n {}'.format(X[:3]))\n",
    "print()\n",
    "print('Transformed data \\n {}'.format(X_prime[:3]))\n",
    "print()\n",
    "print('Reversed (recovered) data \\n {}'.format(X_rec[:3]))\n",
    "print()"
   ]
  },
  {
   "cell_type": "markdown",
   "metadata": {},
   "source": [
    "You can probably see that some values are not exactly the same as they are in the original data. What might be the reason for that?"
   ]
  },
  {
   "cell_type": "markdown",
   "metadata": {},
   "source": [
    "- This might be due to the precision of the numpy s calculation when data is close to 0."
   ]
  },
  {
   "cell_type": "markdown",
   "metadata": {},
   "source": [
    "<div class=\"alert alert-success\">\n",
    "<b>Reviewer's comment</b>\n",
    "  \n",
    "Yep, that's pretty much it! You successfully tried obfuscating the data and recovering the original data using an inverse matrix.\n",
    "  \n",
    "</div>"
   ]
  },
  {
   "cell_type": "markdown",
   "metadata": {},
   "source": [
    "## Proof That Data Obfuscation Can Work with LR"
   ]
  },
  {
   "cell_type": "markdown",
   "metadata": {},
   "source": [
    "The regression task has been solved with linear regression in this project. Your next task is to prove _analytically_ that the given obfuscation method won't affect linear regression in terms of predicted values i.e. their values will remain the same. Can you believe that? Well, you don't have to, you should prove it!"
   ]
  },
  {
   "cell_type": "markdown",
   "metadata": {},
   "source": [
    "So, the data is obfuscated and there is $X \\times P$ instead of just $X$ now. Consequently, there are other weights $w_P$ as\n",
    "$$\n",
    "w = (X^T X)^{-1} X^T y \\quad \\Rightarrow \\quad w_P = [(XP)^T XP]^{-1} (XP)^T y\n",
    "$$\n",
    "\n",
    "How would $w$ and $w_P$ be linked if you simplify the formula for $w_P$ above? \n",
    "\n",
    "What would be predicted values with $w_P$? \n",
    "\n",
    "What does that mean for the quality of linear regression if you measure it with RMSE?\n",
    "\n",
    "Check Appendix B Properties of Matrices in the end of the notebook. There are useful formulas in there!\n",
    "\n",
    "No code is necessary in this section, only analytical explanation!"
   ]
  },
  {
   "cell_type": "markdown",
   "metadata": {},
   "source": [
    "**Answer**"
   ]
  },
  {
   "cell_type": "markdown",
   "metadata": {},
   "source": []
  },
  {
   "cell_type": "markdown",
   "metadata": {},
   "source": [
    "**Analytical proof**"
   ]
  },
  {
   "cell_type": "markdown",
   "metadata": {},
   "source": [
    "- Given:"
   ]
  },
  {
   "cell_type": "markdown",
   "metadata": {},
   "source": [
    "$$w_p = [(XP)^T XP]^{-1}(XP)^Ty \\qquad \\qquad $$"
   ]
  },
  {
   "cell_type": "markdown",
   "metadata": {},
   "source": [
    "- expand $(XP)^T$ using reversivity of transpose property"
   ]
  },
  {
   "cell_type": "markdown",
   "metadata": {},
   "source": [
    "$$w_p = [P^T X^T XP]^{-1} P^T X^T y\\qquad \\qquad$$"
   ]
  },
  {
   "cell_type": "markdown",
   "metadata": {},
   "source": [
    "- aranging square brackets"
   ]
  },
  {
   "cell_type": "markdown",
   "metadata": {},
   "source": [
    "$$w_p = (P^T (X^T X) P)^{-1} P^T X^T y \\qquad \\qquad$$"
   ]
  },
  {
   "cell_type": "markdown",
   "metadata": {},
   "source": [
    "- expand the bracket $(P^T (X^T X) P)^{-1}$ "
   ]
  },
  {
   "cell_type": "markdown",
   "metadata": {},
   "source": [
    "$$w_p = P^{-1} (X^T X)^{-1} (P^T)^{-1} P^T X^T y \\qquad \\qquad$$"
   ]
  },
  {
   "cell_type": "markdown",
   "metadata": {},
   "source": [
    "- since $(P^T)^{-1} P^T = P^T (P^T)^{-1}  = I$"
   ]
  },
  {
   "cell_type": "markdown",
   "metadata": {},
   "source": [
    "$$w_p = P^{-1} (X^T X)^{-1} I X^T y \\qquad \\qquad$$"
   ]
  },
  {
   "cell_type": "markdown",
   "metadata": {},
   "source": [
    "- applying identity property for multiplication $ I X^T = X^T I = X^T$"
   ]
  },
  {
   "cell_type": "markdown",
   "metadata": {},
   "source": [
    "$$w_p = P^{-1} (X^T X)^{-1} X^T y \\qquad \\qquad$$"
   ]
  },
  {
   "cell_type": "markdown",
   "metadata": {},
   "source": [
    "- subtituting $w = (X^T X)^{-1} X^T y$ into the previous equation "
   ]
  },
  {
   "cell_type": "markdown",
   "metadata": {},
   "source": [
    "$$w_p = P^{-1} w \\qquad \\qquad$$"
   ]
  },
  {
   "cell_type": "markdown",
   "metadata": {},
   "source": [
    "**What would be predicted values with  $w_p$ ?**"
   ]
  },
  {
   "cell_type": "markdown",
   "metadata": {},
   "source": [
    "- we have"
   ]
  },
  {
   "cell_type": "markdown",
   "metadata": {},
   "source": [
    "$$a = Xw$$"
   ]
  },
  {
   "cell_type": "markdown",
   "metadata": {},
   "source": [
    "- and "
   ]
  },
  {
   "cell_type": "markdown",
   "metadata": {},
   "source": [
    "$$a' = X'w_p$$"
   ]
  },
  {
   "cell_type": "markdown",
   "metadata": {},
   "source": [
    "- where "
   ]
  },
  {
   "cell_type": "markdown",
   "metadata": {},
   "source": [
    "$$X' = XP$$"
   ]
  },
  {
   "cell_type": "markdown",
   "metadata": {},
   "source": [
    "and$$w_p = P^{-1}w$$"
   ]
  },
  {
   "cell_type": "markdown",
   "metadata": {},
   "source": [
    "- by substituting these values into $a'$ we will have:"
   ]
  },
  {
   "cell_type": "markdown",
   "metadata": {},
   "source": [
    "$$\\begin{align*}\n",
    "    a'= XP.P^{-1}w = XIw \\\\\n",
    "    \\therefore a'= Xw = a\n",
    "\\end{align*}$$"
   ]
  },
  {
   "cell_type": "markdown",
   "metadata": {},
   "source": [
    "**What does that mean for the quality of linear regression if you measure it with RMSE?**"
   ]
  },
  {
   "cell_type": "markdown",
   "metadata": {},
   "source": [
    "- We have $a'$ and $a$ are the same, so the RMSE calculated for both the transformed and non transformed dataset will remain the same.\n",
    "- And the quality of linear regression measured with RMSE will be similar. "
   ]
  },
  {
   "cell_type": "markdown",
   "metadata": {},
   "source": [
    "<div class=\"alert alert-success\">\n",
    "<b>Reviewer's comment V2</b>\n",
    "  \n",
    "Great, the proof is correct. \n",
    "  \n",
    "</div>"
   ]
  },
  {
   "cell_type": "markdown",
   "metadata": {},
   "source": [
    "<div class=\"alert alert-danger\">\n",
    "<s><b>Reviewer's comment</b>\n",
    "  \n",
    "This task is missing. Basically, you just need to simplify the expresion for $w_p$ using the formulas from the appendix (keep in mind that $X$ is not invertible, but $X^T X$ is, so you've got to be careful not to use $X^{-1}$ in your proof), then use it to find the predictions of the new model and compare them to the old predictions. If you have trouble with this task, I suggest contacting the tutor (if you don't know how, ask the community manager).\n",
    "  \n",
    "</div>"
   ]
  },
  {
   "cell_type": "markdown",
   "metadata": {},
   "source": [
    "## Test Linear Regression With Data Obfuscation"
   ]
  },
  {
   "cell_type": "markdown",
   "metadata": {},
   "source": [
    "Now, let's prove Linear Regression can work computationally with the chosen obfuscation transformation.\n",
    "\n",
    "Build a procedure or a class that runs Linear Regression optionally with the obfuscation. You can use either a ready implementation of Linear Regression from sciki-learn or your own.\n",
    "\n",
    "Run Linear Regression for the original data and the obfuscated one, compare the predicted values and the RMSE, $R^2$ metric values. Is there any difference?"
   ]
  },
  {
   "cell_type": "markdown",
   "metadata": {},
   "source": [
    "**Procedure**\n",
    "\n",
    "- Create a square matrix $P$ of random numbers.\n",
    "- Check that it is invertible. If not, repeat the first point until we get an invertible matrix.\n",
    "- <! your comment here !>\n",
    "- Use $XP$ as the new feature matrix"
   ]
  },
  {
   "cell_type": "code",
   "execution_count": 53,
   "metadata": {},
   "outputs": [],
   "source": [
    "rn = np.random.default_rng(seed=42)\n",
    "P = rn.random(size=(X.shape[1], X.shape[1]))"
   ]
  },
  {
   "cell_type": "code",
   "execution_count": 54,
   "metadata": {},
   "outputs": [
    {
     "data": {
      "text/plain": [
       "array([[0.77395605, 0.43887844, 0.85859792, 0.69736803],\n",
       "       [0.09417735, 0.97562235, 0.7611397 , 0.78606431],\n",
       "       [0.12811363, 0.45038594, 0.37079802, 0.92676499],\n",
       "       [0.64386512, 0.82276161, 0.4434142 , 0.22723872]])"
      ]
     },
     "execution_count": 54,
     "metadata": {},
     "output_type": "execute_result"
    }
   ],
   "source": [
    "P"
   ]
  },
  {
   "cell_type": "markdown",
   "metadata": {},
   "source": [
    "Is matrix P invertible?"
   ]
  },
  {
   "cell_type": "code",
   "execution_count": 55,
   "metadata": {},
   "outputs": [
    {
     "data": {
      "text/plain": [
       "array([[ 1.00000000e+00,  1.85130588e-16, -2.97856902e-16,\n",
       "        -3.91584367e-17],\n",
       "       [ 6.23834470e-17,  1.00000000e+00, -7.10568689e-17,\n",
       "         8.24459807e-17],\n",
       "       [ 1.03941594e-17,  2.27454503e-17,  1.00000000e+00,\n",
       "        -5.77784356e-17],\n",
       "       [-1.02697151e-16, -1.69379178e-16, -2.49945035e-17,\n",
       "         1.00000000e+00]])"
      ]
     },
     "execution_count": 55,
     "metadata": {},
     "output_type": "execute_result"
    }
   ],
   "source": [
    "np.matmul(P, np.linalg.inv(P))"
   ]
  },
  {
   "cell_type": "code",
   "execution_count": 56,
   "metadata": {},
   "outputs": [],
   "source": [
    "personal_info_column_list = ['gender', 'age', 'income', 'family_members']\n",
    "df_pn = df[personal_info_column_list]"
   ]
  },
  {
   "cell_type": "code",
   "execution_count": 57,
   "metadata": {},
   "outputs": [],
   "source": [
    "# features\n",
    "X = df_pn.to_numpy()"
   ]
  },
  {
   "cell_type": "code",
   "execution_count": 58,
   "metadata": {},
   "outputs": [],
   "source": [
    "# target\n",
    "y = df[\"insurance_benefits\"].to_numpy()"
   ]
  },
  {
   "cell_type": "markdown",
   "metadata": {},
   "source": [
    "- LR on original data"
   ]
  },
  {
   "cell_type": "code",
   "execution_count": 59,
   "metadata": {},
   "outputs": [
    {
     "name": "stdout",
     "output_type": "stream",
     "text": [
      "[-9.43539012e-01  1.64272726e-02  3.57495491e-02 -2.60743659e-07\n",
      " -1.16902127e-02]\n",
      "RMSE: 0.34\n",
      "R2: 0.66\n"
     ]
    }
   ],
   "source": [
    "X_train, X_test, y_train, y_test = train_test_split(X, y, test_size=0.3, random_state=12345)\n",
    "\n",
    "lr = MyLinearRegression()\n",
    "\n",
    "lr.fit(X_train, y_train)\n",
    "print(lr.weights)\n",
    "\n",
    "y_test_pred = lr.predict(X_test)\n",
    "eval_regressor(y_test, y_test_pred)"
   ]
  },
  {
   "cell_type": "markdown",
   "metadata": {},
   "source": [
    "- LR on obfuscated data"
   ]
  },
  {
   "cell_type": "code",
   "execution_count": 60,
   "metadata": {},
   "outputs": [
    {
     "name": "stdout",
     "output_type": "stream",
     "text": [
      "[-0.94353901 -0.05791721 -0.01546567  0.09871889 -0.02397536]\n",
      "RMSE: 0.34\n",
      "R2: 0.66\n"
     ]
    }
   ],
   "source": [
    "X_prime = X.dot(P)\n",
    "\n",
    "X_train_obs, X_test_obs, y_train_obs, y_test_obs = train_test_split(X_prime, y, test_size=0.3, random_state=12345)\n",
    "\n",
    "lr = MyLinearRegression()\n",
    "\n",
    "lr.fit(X_train_obs, y_train_obs)\n",
    "print(lr.weights)\n",
    "\n",
    "y_test_pred = lr.predict(X_test_obs)\n",
    "eval_regressor(y_test_obs, y_test_pred)"
   ]
  },
  {
   "cell_type": "markdown",
   "metadata": {},
   "source": [
    "- Using computational means, we obtained similar RMSE of 0.34 and $R^2$ score of 0.66 for both original and obfuscated data."
   ]
  },
  {
   "cell_type": "markdown",
   "metadata": {},
   "source": [
    "<div class=\"alert alert-success\">\n",
    "<b>Reviewer's comment</b>\n",
    "  \n",
    "Great, you successfully experimentally confirmed that data obfuscation doesn't impact model's quality \n",
    "  \n",
    "</div>"
   ]
  },
  {
   "cell_type": "markdown",
   "metadata": {},
   "source": [
    "# <a id=\"1\"> Conclusions"
   ]
  },
  {
   "cell_type": "markdown",
   "metadata": {},
   "source": [
    "The business task of this project is data masking for the Sure Tomorrow insurance, by developing a data transformation algorithm that would make it hard to recover personal information if the data fell into the wrong hands.\n",
    "1. First step, data discovery\n",
    "    - we loaded the data that consists of 5000 rows and 5 columns. \n",
    "    - We renamed the columns and changed data type for the age feature from float to int. \n",
    "    - we've seen that there are no missing values in the data. \n",
    "    - \n",
    "2. EDA\n",
    "    - We performed exploratory data analysis on the data and determined if scaling is affecting the kNN algorithm.\n",
    "    - The unscaled data affects the kNN algorithm because the algorithm is giving more importance features with higher ranging numbers. \n",
    "    - using euclidean distance, for unscaled data, the distance metric calculated ranges from 0.00 to 5.09, whereas for scaled data, the distance metric range of 0.00 to 0.03. \n",
    "    - This shows the impact of data scaling. With data scaling, the distances are more comparable than with unscaled data.\n",
    "3. We built a custom kNN classifier\n",
    "    - we measured the quality \n",
    "        - F1 metric for k=1 to 10 for both the original data and the scaled one. \n",
    "    - we observed that for the original and unscaled data, k influences the evaluation metric. The higher the value of k the lower the F1 score recorded. \n",
    "    - The dummy model gave the highest F1-score of 0.2 at a probability value of 1. This model predicted that all customers will benefit from the insurance.\n",
    "4. LR implementation\n",
    "    - we imlemented and calculated RMSE and R2 score or both the original and the scaled data.\n",
    "    - we've seen no difference in RMSE and $R^2$ score between these two.\n",
    "5. Data obfuscated\n",
    "    - we've proved analytically that obfuscation is working with LR\n",
    "    - when testing the linear regression with data obfuscation, we obtained similar RMSE value of 0.34 and $R^2$ score of 0.66, for both the original and obfuscated data."
   ]
  },
  {
   "cell_type": "markdown",
   "metadata": {},
   "source": [
    "<div class=\"alert alert-success\">\n",
    "<b>Reviewer's comment</b>\n",
    "  \n",
    "Ok!\n",
    "  \n",
    "</div>"
   ]
  },
  {
   "cell_type": "markdown",
   "metadata": {},
   "source": [
    "# Checklist"
   ]
  },
  {
   "cell_type": "markdown",
   "metadata": {},
   "source": [
    "Type 'x' to check. Then press Shift+Enter."
   ]
  },
  {
   "cell_type": "markdown",
   "metadata": {},
   "source": [
    "- [x]  Jupyter Notebook is open\n",
    "- [ ]  Code is error free\n",
    "- [ ]  The cells are arranged in order of logic and execution\n",
    "- [ ]  Task 1 has been performed\n",
    "    - [ ]  There is the procedure that can return k similar customers for a given one\n",
    "    - [ ]  The procedure is tested for all four proposed combinations\n",
    "    - [ ]  The questions re the scaling/distances are answered\n",
    "- [ ]  Task 2 has been performed\n",
    "    - [ ]  The random classification model is built and tested for all for probability levels\n",
    "    - [ ]  The kNN classification model is built and tested for both the original data and the scaled one, the F1 metric is calculated.\n",
    "- [ ]  Task 3 has been performed\n",
    "    - [ ]  The linear tegression solution is implemented with matrix operations.\n",
    "    - [ ]  RMSE is calculated for the implemented solution.\n",
    "- [ ]  Task 4 has been performed\n",
    "    - [ ]  The data is obfuscated with a random and invertible matrix P\n",
    "    - [ ]  The obfuscated data is recoved, few examples are printed out\n",
    "    - [ ]  The analytical proof that the transformation does not affect RMSE is provided \n",
    "    - [ ]  The computational proof that the transformation does not affect RMSE is provided\n",
    "- [ ]  Conclusions have been made"
   ]
  },
  {
   "cell_type": "markdown",
   "metadata": {},
   "source": [
    "# Appendices \n",
    "\n",
    "## Appendix A: Writing Formulas in Jupyter Notebooks"
   ]
  },
  {
   "cell_type": "markdown",
   "metadata": {},
   "source": [
    "You can write formulas in your Jupyter Notebook in a markup language provided by a high-quality publishing system called $\\LaTeX$ (pronounced \"Lah-tech\"), and they will look like formulas in textbooks.\n",
    "\n",
    "To put a formula in a text, put the dollar sign (\\\\$) before and after the formula's text e.g. $\\frac{1}{2} \\times \\frac{3}{2} = \\frac{3}{4}$ or $y = x^2, x \\ge 1$.\n",
    "\n",
    "If a formula should be in its own paragraph, put the double dollar sign (\\\\$\\\\$) before and after the formula text e.g.\n",
    "\n",
    "$$\n",
    "\\bar{x} = \\frac{1}{n}\\sum_{i=1}^{n} x_i.\n",
    "$$\n",
    "\n",
    "The markup language of [LaTeX](https://en.wikipedia.org/wiki/LaTeX) is very popular among people who use formulas in their articles, books and texts. It can be complex but its basics are easy. Check this two page [cheatsheet](http://tug.ctan.org/info/undergradmath/undergradmath.pdf) for learning how to compose the most common formulas."
   ]
  },
  {
   "cell_type": "markdown",
   "metadata": {},
   "source": [
    "## Appendix B: Properties of Matrices"
   ]
  },
  {
   "cell_type": "markdown",
   "metadata": {},
   "source": [
    "Matrices have many properties in Linear Algebra. A few of them are listed here which can help with the analytical proof in this project."
   ]
  },
  {
   "cell_type": "markdown",
   "metadata": {},
   "source": [
    "<table>\n",
    "<tr>\n",
    "<td>Distributivity</td><td>$A(B+C)=AB+AC$</td>\n",
    "</tr>\n",
    "<tr>\n",
    "<td>Non-commutativity</td><td>$AB \\neq BA$</td>\n",
    "</tr>\n",
    "<tr>\n",
    "<td>Associative property of multiplication</td><td>$(AB)C = A(BC)$</td>\n",
    "</tr>\n",
    "<tr>\n",
    "<td>Multiplicative identity property</td><td>$IA = AI = A$</td>\n",
    "</tr>\n",
    "<tr>\n",
    "<td></td><td>$A^{-1}A = AA^{-1} = I$\n",
    "</td>\n",
    "</tr>    \n",
    "<tr>\n",
    "<td></td><td>$(AB)^{-1} = B^{-1}A^{-1}$</td>\n",
    "</tr>    \n",
    "<tr>\n",
    "<td>Reversivity of the transpose of a product of matrices,</td><td>$(AB)^T = B^TA^T$</td>\n",
    "</tr>    \n",
    "</table>"
   ]
  },
  {
   "cell_type": "code",
   "execution_count": null,
   "metadata": {},
   "outputs": [],
   "source": []
  }
 ],
 "metadata": {
  "ExecuteTimeLog": [
   {
    "duration": 1623,
    "start_time": "2021-09-12T14:11:18.863Z"
   },
   {
    "duration": 2818,
    "start_time": "2021-09-12T14:12:04.983Z"
   },
   {
    "duration": 138,
    "start_time": "2021-09-12T14:12:33.006Z"
   },
   {
    "duration": 20,
    "start_time": "2021-09-12T14:12:48.155Z"
   },
   {
    "duration": 12,
    "start_time": "2021-09-12T14:13:08.527Z"
   },
   {
    "duration": 13,
    "start_time": "2021-09-12T14:13:26.173Z"
   },
   {
    "duration": 6,
    "start_time": "2021-09-12T14:13:29.527Z"
   },
   {
    "duration": 14,
    "start_time": "2021-09-12T14:13:31.962Z"
   },
   {
    "duration": 9,
    "start_time": "2021-09-12T14:13:47.253Z"
   },
   {
    "duration": 4,
    "start_time": "2021-09-12T14:14:10.865Z"
   },
   {
    "duration": 11,
    "start_time": "2021-09-12T14:14:36.441Z"
   },
   {
    "duration": 37,
    "start_time": "2021-09-12T14:16:33.674Z"
   },
   {
    "duration": 12,
    "start_time": "2021-09-12T14:17:26.653Z"
   },
   {
    "duration": 9,
    "start_time": "2021-09-12T14:17:41.233Z"
   },
   {
    "duration": 8492,
    "start_time": "2021-09-12T14:21:50.619Z"
   },
   {
    "duration": 4,
    "start_time": "2021-09-12T14:24:40.409Z"
   },
   {
    "duration": 8795,
    "start_time": "2021-09-12T14:27:41.695Z"
   },
   {
    "duration": 8305,
    "start_time": "2021-09-12T14:46:15.878Z"
   },
   {
    "duration": 3,
    "start_time": "2021-09-12T14:56:59.150Z"
   },
   {
    "duration": 7,
    "start_time": "2021-09-12T14:58:10.277Z"
   },
   {
    "duration": 16,
    "start_time": "2021-09-12T14:58:54.983Z"
   },
   {
    "duration": 14,
    "start_time": "2021-09-12T14:59:48.769Z"
   },
   {
    "duration": 1176,
    "start_time": "2021-09-13T13:45:55.588Z"
   },
   {
    "duration": 103,
    "start_time": "2021-09-13T13:46:00.838Z"
   },
   {
    "duration": 5,
    "start_time": "2021-09-13T13:46:04.110Z"
   },
   {
    "duration": 13,
    "start_time": "2021-09-13T13:47:29.877Z"
   },
   {
    "duration": 8,
    "start_time": "2021-09-13T14:23:33.951Z"
   },
   {
    "duration": 5,
    "start_time": "2021-09-13T15:47:20.416Z"
   },
   {
    "duration": 7,
    "start_time": "2021-09-13T15:47:23.747Z"
   },
   {
    "duration": 22,
    "start_time": "2021-09-13T15:47:27.684Z"
   },
   {
    "duration": 8,
    "start_time": "2021-09-13T15:48:37.953Z"
   },
   {
    "duration": 6,
    "start_time": "2021-09-13T15:48:56.138Z"
   },
   {
    "duration": 4870,
    "start_time": "2021-09-13T15:49:01.543Z"
   },
   {
    "duration": 2,
    "start_time": "2021-09-13T16:49:24.237Z"
   },
   {
    "duration": 5,
    "start_time": "2021-09-13T16:49:26.287Z"
   },
   {
    "duration": 11,
    "start_time": "2021-09-13T16:57:02.749Z"
   },
   {
    "duration": 9,
    "start_time": "2021-09-13T16:57:07.388Z"
   },
   {
    "duration": 15,
    "start_time": "2021-09-13T16:57:36.980Z"
   },
   {
    "duration": 21,
    "start_time": "2021-09-13T16:58:02.493Z"
   },
   {
    "duration": 15,
    "start_time": "2021-09-13T16:58:35.552Z"
   },
   {
    "duration": 22,
    "start_time": "2021-09-13T17:13:46.077Z"
   },
   {
    "duration": 1159,
    "start_time": "2021-09-13T17:38:18.193Z"
   },
   {
    "duration": 112,
    "start_time": "2021-09-13T17:38:22.491Z"
   },
   {
    "duration": 4,
    "start_time": "2021-09-13T17:38:25.365Z"
   },
   {
    "duration": 12,
    "start_time": "2021-09-13T17:38:28.443Z"
   },
   {
    "duration": 7,
    "start_time": "2021-09-13T17:38:31.760Z"
   },
   {
    "duration": 3,
    "start_time": "2021-09-13T17:38:34.513Z"
   },
   {
    "duration": 6,
    "start_time": "2021-09-13T17:38:36.837Z"
   },
   {
    "duration": 21,
    "start_time": "2021-09-13T17:38:39.936Z"
   },
   {
    "duration": 8,
    "start_time": "2021-09-13T17:38:43.170Z"
   },
   {
    "duration": 6,
    "start_time": "2021-09-13T17:38:50.312Z"
   },
   {
    "duration": 4622,
    "start_time": "2021-09-13T17:38:53.654Z"
   },
   {
    "duration": 3,
    "start_time": "2021-09-13T17:39:07.470Z"
   },
   {
    "duration": 5,
    "start_time": "2021-09-13T17:39:09.632Z"
   },
   {
    "duration": 11,
    "start_time": "2021-09-13T17:39:12.374Z"
   },
   {
    "duration": 11,
    "start_time": "2021-09-13T17:39:15.712Z"
   },
   {
    "duration": 15,
    "start_time": "2021-09-13T17:39:19.463Z"
   },
   {
    "duration": 24,
    "start_time": "2021-09-13T17:39:23.484Z"
   },
   {
    "duration": 17,
    "start_time": "2021-09-13T17:39:26.885Z"
   },
   {
    "duration": 24,
    "start_time": "2021-09-13T17:39:31.090Z"
   },
   {
    "duration": 5,
    "start_time": "2021-09-13T18:00:51.259Z"
   },
   {
    "duration": 8,
    "start_time": "2021-09-13T18:10:31.968Z"
   },
   {
    "duration": 3,
    "start_time": "2021-09-13T18:19:41.770Z"
   },
   {
    "duration": 3,
    "start_time": "2021-09-13T18:19:50.955Z"
   },
   {
    "duration": 81,
    "start_time": "2021-09-13T18:20:06.073Z"
   },
   {
    "duration": 370,
    "start_time": "2021-09-13T18:23:13.514Z"
   },
   {
    "duration": 10,
    "start_time": "2021-09-13T18:24:13.439Z"
   },
   {
    "duration": 7,
    "start_time": "2021-09-13T18:24:25.571Z"
   },
   {
    "duration": 40,
    "start_time": "2021-09-13T18:25:00.218Z"
   },
   {
    "duration": 510,
    "start_time": "2021-09-13T18:25:15.983Z"
   },
   {
    "duration": 3,
    "start_time": "2021-09-13T18:26:19.075Z"
   },
   {
    "duration": 3,
    "start_time": "2021-09-13T18:26:20.892Z"
   },
   {
    "duration": 9,
    "start_time": "2021-09-13T18:26:23.612Z"
   },
   {
    "duration": 7,
    "start_time": "2021-09-13T18:26:25.633Z"
   },
   {
    "duration": 39,
    "start_time": "2021-09-13T18:26:28.894Z"
   },
   {
    "duration": 42,
    "start_time": "2021-09-13T18:26:31.200Z"
   },
   {
    "duration": 750,
    "start_time": "2021-09-13T18:26:48.218Z"
   },
   {
    "duration": 1516,
    "start_time": "2021-09-14T21:55:07.961Z"
   },
   {
    "duration": 144,
    "start_time": "2021-09-14T21:55:14.286Z"
   },
   {
    "duration": 9,
    "start_time": "2021-09-14T21:55:35.704Z"
   },
   {
    "duration": 18,
    "start_time": "2021-09-14T21:55:39.523Z"
   },
   {
    "duration": 10,
    "start_time": "2021-09-14T21:55:43.171Z"
   },
   {
    "duration": 5,
    "start_time": "2021-09-14T21:55:46.340Z"
   },
   {
    "duration": 11,
    "start_time": "2021-09-14T21:55:51.166Z"
   },
   {
    "duration": 37,
    "start_time": "2021-09-14T21:55:55.032Z"
   },
   {
    "duration": 1564,
    "start_time": "2021-09-15T16:09:33.870Z"
   },
   {
    "duration": 115,
    "start_time": "2021-09-15T16:09:42.544Z"
   },
   {
    "duration": 6,
    "start_time": "2021-09-15T16:09:47.547Z"
   },
   {
    "duration": 20,
    "start_time": "2021-09-15T16:09:51.376Z"
   },
   {
    "duration": 9,
    "start_time": "2021-09-15T16:10:01.464Z"
   },
   {
    "duration": 6,
    "start_time": "2021-09-15T16:10:03.885Z"
   },
   {
    "duration": 9,
    "start_time": "2021-09-15T16:10:13.141Z"
   },
   {
    "duration": 36,
    "start_time": "2021-09-15T16:10:13.315Z"
   },
   {
    "duration": 12,
    "start_time": "2021-09-15T16:10:30.160Z"
   },
   {
    "duration": 8,
    "start_time": "2021-09-15T16:10:54.060Z"
   },
   {
    "duration": 8547,
    "start_time": "2021-09-15T16:10:57.243Z"
   },
   {
    "duration": 3,
    "start_time": "2021-09-15T16:13:28.522Z"
   },
   {
    "duration": 7,
    "start_time": "2021-09-15T16:30:18.020Z"
   },
   {
    "duration": 15,
    "start_time": "2021-09-15T16:30:21.860Z"
   },
   {
    "duration": 14,
    "start_time": "2021-09-15T16:30:24.492Z"
   },
   {
    "duration": 24,
    "start_time": "2021-09-15T16:30:27.208Z"
   },
   {
    "duration": 35,
    "start_time": "2021-09-15T16:30:30.210Z"
   },
   {
    "duration": 21,
    "start_time": "2021-09-15T16:30:33.224Z"
   },
   {
    "duration": 35,
    "start_time": "2021-09-15T16:30:36.381Z"
   },
   {
    "duration": 5,
    "start_time": "2021-09-15T16:30:40.892Z"
   },
   {
    "duration": 9,
    "start_time": "2021-09-15T16:30:43.724Z"
   },
   {
    "duration": 4,
    "start_time": "2021-09-15T16:30:45.555Z"
   },
   {
    "duration": 4,
    "start_time": "2021-09-15T16:30:47.596Z"
   },
   {
    "duration": 14,
    "start_time": "2021-09-15T16:42:14.276Z"
   },
   {
    "duration": 11,
    "start_time": "2021-09-15T16:42:16.487Z"
   },
   {
    "duration": 108,
    "start_time": "2021-09-15T16:42:19.576Z"
   },
   {
    "duration": 97,
    "start_time": "2021-09-15T16:42:21.723Z"
   },
   {
    "duration": 1591,
    "start_time": "2021-09-15T16:42:23.820Z"
   },
   {
    "duration": 16,
    "start_time": "2021-09-15T16:56:51.011Z"
   },
   {
    "duration": 6,
    "start_time": "2021-09-15T18:17:38.339Z"
   },
   {
    "duration": 6,
    "start_time": "2021-09-15T18:17:50.167Z"
   },
   {
    "duration": 572,
    "start_time": "2021-09-15T18:20:06.878Z"
   },
   {
    "duration": 5,
    "start_time": "2021-09-15T18:53:16.931Z"
   },
   {
    "duration": 5,
    "start_time": "2021-09-15T18:53:18.780Z"
   },
   {
    "duration": 9,
    "start_time": "2021-09-15T18:53:20.406Z"
   },
   {
    "duration": 979,
    "start_time": "2021-09-15T18:53:30.386Z"
   },
   {
    "duration": 31,
    "start_time": "2021-09-15T18:59:19.872Z"
   },
   {
    "duration": 7,
    "start_time": "2021-09-15T20:31:23.886Z"
   },
   {
    "duration": 8,
    "start_time": "2021-09-15T20:31:56.528Z"
   },
   {
    "duration": 457,
    "start_time": "2021-09-15T20:32:57.653Z"
   },
   {
    "duration": 80,
    "start_time": "2021-09-15T20:33:12.508Z"
   },
   {
    "duration": 615,
    "start_time": "2021-09-15T20:33:28.391Z"
   },
   {
    "duration": 6,
    "start_time": "2021-09-15T20:35:42.514Z"
   },
   {
    "duration": 4,
    "start_time": "2021-09-15T20:35:50.520Z"
   },
   {
    "duration": 13,
    "start_time": "2021-09-15T20:36:26.664Z"
   },
   {
    "duration": 14,
    "start_time": "2021-09-15T20:37:07.875Z"
   },
   {
    "duration": 5,
    "start_time": "2021-09-15T20:37:53.925Z"
   },
   {
    "duration": 3,
    "start_time": "2021-09-15T20:38:13.924Z"
   },
   {
    "duration": 7,
    "start_time": "2021-09-15T20:38:26.079Z"
   },
   {
    "duration": 4,
    "start_time": "2021-09-15T20:38:38.083Z"
   },
   {
    "duration": 6,
    "start_time": "2021-09-15T20:38:48.948Z"
   },
   {
    "duration": 9,
    "start_time": "2021-09-15T20:39:03.961Z"
   },
   {
    "duration": 7,
    "start_time": "2021-09-15T20:40:29.108Z"
   },
   {
    "duration": 8,
    "start_time": "2021-09-15T20:40:45.255Z"
   },
   {
    "duration": 7,
    "start_time": "2021-09-15T20:42:38.786Z"
   },
   {
    "duration": 7,
    "start_time": "2021-09-15T20:42:54.069Z"
   },
   {
    "duration": 7,
    "start_time": "2021-09-15T20:43:08.028Z"
   },
   {
    "duration": 4,
    "start_time": "2021-09-15T20:45:06.945Z"
   },
   {
    "duration": 6,
    "start_time": "2021-09-15T20:45:15.489Z"
   },
   {
    "duration": 7,
    "start_time": "2021-09-15T20:46:09.692Z"
   },
   {
    "duration": 6,
    "start_time": "2021-09-15T20:46:30.545Z"
   },
   {
    "duration": 4,
    "start_time": "2021-09-15T20:46:41.910Z"
   },
   {
    "duration": 4,
    "start_time": "2021-09-15T20:50:00.264Z"
   },
   {
    "duration": 12,
    "start_time": "2021-09-15T20:54:35.349Z"
   },
   {
    "duration": 14,
    "start_time": "2021-09-15T20:55:08.779Z"
   },
   {
    "duration": 1582,
    "start_time": "2021-09-15T20:57:56.590Z"
   },
   {
    "duration": 152,
    "start_time": "2021-09-15T20:57:58.175Z"
   },
   {
    "duration": 5,
    "start_time": "2021-09-15T20:57:58.329Z"
   },
   {
    "duration": 18,
    "start_time": "2021-09-15T20:57:58.337Z"
   },
   {
    "duration": 8,
    "start_time": "2021-09-15T20:57:58.358Z"
   },
   {
    "duration": 7,
    "start_time": "2021-09-15T20:57:58.369Z"
   },
   {
    "duration": 46,
    "start_time": "2021-09-15T20:57:58.378Z"
   },
   {
    "duration": 37,
    "start_time": "2021-09-15T20:57:58.427Z"
   },
   {
    "duration": 11,
    "start_time": "2021-09-15T20:57:58.467Z"
   },
   {
    "duration": 41,
    "start_time": "2021-09-15T20:57:58.480Z"
   },
   {
    "duration": 8420,
    "start_time": "2021-09-15T20:57:58.523Z"
   },
   {
    "duration": 4,
    "start_time": "2021-09-15T20:58:06.945Z"
   },
   {
    "duration": 31,
    "start_time": "2021-09-15T20:58:06.952Z"
   },
   {
    "duration": 27,
    "start_time": "2021-09-15T20:58:06.986Z"
   },
   {
    "duration": 14,
    "start_time": "2021-09-15T20:58:07.016Z"
   },
   {
    "duration": 26,
    "start_time": "2021-09-15T20:58:07.032Z"
   },
   {
    "duration": 66,
    "start_time": "2021-09-15T20:58:07.061Z"
   },
   {
    "duration": 23,
    "start_time": "2021-09-15T20:58:07.130Z"
   },
   {
    "duration": 61,
    "start_time": "2021-09-15T20:58:07.155Z"
   },
   {
    "duration": 6,
    "start_time": "2021-09-15T20:58:07.219Z"
   },
   {
    "duration": 18,
    "start_time": "2021-09-15T20:58:07.228Z"
   },
   {
    "duration": 16,
    "start_time": "2021-09-15T20:58:07.249Z"
   },
   {
    "duration": 9,
    "start_time": "2021-09-15T20:58:07.270Z"
   },
   {
    "duration": 62,
    "start_time": "2021-09-15T20:58:07.282Z"
   },
   {
    "duration": 13,
    "start_time": "2021-09-15T20:58:07.347Z"
   },
   {
    "duration": 126,
    "start_time": "2021-09-15T20:58:07.364Z"
   },
   {
    "duration": 136,
    "start_time": "2021-09-15T20:58:07.493Z"
   },
   {
    "duration": 1507,
    "start_time": "2021-09-15T20:58:07.632Z"
   },
   {
    "duration": 14,
    "start_time": "2021-09-15T20:58:09.141Z"
   },
   {
    "duration": 7,
    "start_time": "2021-09-15T20:58:09.158Z"
   },
   {
    "duration": 9,
    "start_time": "2021-09-15T20:58:09.168Z"
   },
   {
    "duration": 676,
    "start_time": "2021-09-15T20:58:09.179Z"
   },
   {
    "duration": -194,
    "start_time": "2021-09-15T20:58:10.052Z"
   },
   {
    "duration": -213,
    "start_time": "2021-09-15T20:58:10.072Z"
   },
   {
    "duration": -219,
    "start_time": "2021-09-15T20:58:10.080Z"
   },
   {
    "duration": -224,
    "start_time": "2021-09-15T20:58:10.086Z"
   },
   {
    "duration": -231,
    "start_time": "2021-09-15T20:58:10.094Z"
   },
   {
    "duration": -259,
    "start_time": "2021-09-15T20:58:10.124Z"
   },
   {
    "duration": -275,
    "start_time": "2021-09-15T20:58:10.142Z"
   },
   {
    "duration": -281,
    "start_time": "2021-09-15T20:58:10.149Z"
   },
   {
    "duration": -287,
    "start_time": "2021-09-15T20:58:10.156Z"
   },
   {
    "duration": -290,
    "start_time": "2021-09-15T20:58:10.161Z"
   },
   {
    "duration": -295,
    "start_time": "2021-09-15T20:58:10.167Z"
   },
   {
    "duration": -299,
    "start_time": "2021-09-15T20:58:10.173Z"
   },
   {
    "duration": -306,
    "start_time": "2021-09-15T20:58:10.181Z"
   },
   {
    "duration": -309,
    "start_time": "2021-09-15T20:58:10.186Z"
   },
   {
    "duration": -315,
    "start_time": "2021-09-15T20:58:10.194Z"
   },
   {
    "duration": -319,
    "start_time": "2021-09-15T20:58:10.200Z"
   },
   {
    "duration": -325,
    "start_time": "2021-09-15T20:58:10.207Z"
   },
   {
    "duration": -329,
    "start_time": "2021-09-15T20:58:10.213Z"
   },
   {
    "duration": -333,
    "start_time": "2021-09-15T20:58:10.219Z"
   },
   {
    "duration": -350,
    "start_time": "2021-09-15T20:58:10.237Z"
   },
   {
    "duration": -446,
    "start_time": "2021-09-15T20:58:10.335Z"
   },
   {
    "duration": -477,
    "start_time": "2021-09-15T20:58:10.367Z"
   },
   {
    "duration": -482,
    "start_time": "2021-09-15T20:58:10.374Z"
   },
   {
    "duration": -487,
    "start_time": "2021-09-15T20:58:10.380Z"
   },
   {
    "duration": -493,
    "start_time": "2021-09-15T20:58:10.388Z"
   },
   {
    "duration": -498,
    "start_time": "2021-09-15T20:58:10.394Z"
   },
   {
    "duration": -485,
    "start_time": "2021-09-15T20:58:10.400Z"
   },
   {
    "duration": -489,
    "start_time": "2021-09-15T20:58:10.405Z"
   },
   {
    "duration": 1506,
    "start_time": "2021-09-15T20:59:11.060Z"
   },
   {
    "duration": 96,
    "start_time": "2021-09-15T20:59:12.569Z"
   },
   {
    "duration": 6,
    "start_time": "2021-09-15T20:59:12.668Z"
   },
   {
    "duration": 25,
    "start_time": "2021-09-15T20:59:12.676Z"
   },
   {
    "duration": 9,
    "start_time": "2021-09-15T20:59:12.704Z"
   },
   {
    "duration": 7,
    "start_time": "2021-09-15T20:59:12.715Z"
   },
   {
    "duration": 16,
    "start_time": "2021-09-15T20:59:12.725Z"
   },
   {
    "duration": 35,
    "start_time": "2021-09-15T20:59:12.745Z"
   },
   {
    "duration": 40,
    "start_time": "2021-09-15T20:59:12.783Z"
   },
   {
    "duration": 11,
    "start_time": "2021-09-15T20:59:12.826Z"
   },
   {
    "duration": 8161,
    "start_time": "2021-09-15T20:59:12.840Z"
   },
   {
    "duration": 14,
    "start_time": "2021-09-15T20:59:21.003Z"
   },
   {
    "duration": 13,
    "start_time": "2021-09-15T20:59:21.019Z"
   },
   {
    "duration": 25,
    "start_time": "2021-09-15T20:59:21.035Z"
   },
   {
    "duration": 14,
    "start_time": "2021-09-15T20:59:21.062Z"
   },
   {
    "duration": 23,
    "start_time": "2021-09-15T20:59:21.078Z"
   },
   {
    "duration": 34,
    "start_time": "2021-09-15T20:59:21.103Z"
   },
   {
    "duration": 21,
    "start_time": "2021-09-15T20:59:21.139Z"
   },
   {
    "duration": 37,
    "start_time": "2021-09-15T20:59:21.162Z"
   },
   {
    "duration": 5,
    "start_time": "2021-09-15T20:59:21.201Z"
   },
   {
    "duration": 13,
    "start_time": "2021-09-15T20:59:21.208Z"
   },
   {
    "duration": 6,
    "start_time": "2021-09-15T20:59:21.223Z"
   },
   {
    "duration": 5,
    "start_time": "2021-09-15T20:59:21.235Z"
   },
   {
    "duration": 17,
    "start_time": "2021-09-15T20:59:21.243Z"
   },
   {
    "duration": 10,
    "start_time": "2021-09-15T20:59:21.262Z"
   },
   {
    "duration": 89,
    "start_time": "2021-09-15T20:59:21.274Z"
   },
   {
    "duration": 77,
    "start_time": "2021-09-15T20:59:21.366Z"
   },
   {
    "duration": 1795,
    "start_time": "2021-09-15T20:59:21.445Z"
   },
   {
    "duration": 17,
    "start_time": "2021-09-15T20:59:23.242Z"
   },
   {
    "duration": 59,
    "start_time": "2021-09-15T20:59:23.261Z"
   },
   {
    "duration": 7,
    "start_time": "2021-09-15T20:59:23.323Z"
   },
   {
    "duration": 14,
    "start_time": "2021-09-15T20:59:23.332Z"
   },
   {
    "duration": 989,
    "start_time": "2021-09-15T20:59:23.349Z"
   },
   {
    "duration": 31,
    "start_time": "2021-09-15T20:59:24.341Z"
   },
   {
    "duration": 43,
    "start_time": "2021-09-15T20:59:24.375Z"
   },
   {
    "duration": 10,
    "start_time": "2021-09-15T20:59:24.421Z"
   },
   {
    "duration": 525,
    "start_time": "2021-09-15T20:59:24.434Z"
   },
   {
    "duration": 112,
    "start_time": "2021-09-15T20:59:24.962Z"
   },
   {
    "duration": 548,
    "start_time": "2021-09-15T20:59:25.077Z"
   },
   {
    "duration": 9,
    "start_time": "2021-09-15T20:59:25.628Z"
   },
   {
    "duration": 10,
    "start_time": "2021-09-15T20:59:25.640Z"
   },
   {
    "duration": 73,
    "start_time": "2021-09-15T20:59:25.653Z"
   },
   {
    "duration": 96,
    "start_time": "2021-09-15T20:59:25.730Z"
   },
   {
    "duration": 88,
    "start_time": "2021-09-15T20:59:25.830Z"
   },
   {
    "duration": 7,
    "start_time": "2021-09-15T20:59:25.922Z"
   },
   {
    "duration": 10,
    "start_time": "2021-09-15T20:59:26.016Z"
   },
   {
    "duration": 9,
    "start_time": "2021-09-15T20:59:26.028Z"
   },
   {
    "duration": 9,
    "start_time": "2021-09-15T20:59:26.039Z"
   },
   {
    "duration": 7,
    "start_time": "2021-09-15T20:59:26.050Z"
   },
   {
    "duration": 7,
    "start_time": "2021-09-15T20:59:26.116Z"
   },
   {
    "duration": 91,
    "start_time": "2021-09-15T20:59:26.125Z"
   },
   {
    "duration": 8,
    "start_time": "2021-09-15T20:59:26.219Z"
   },
   {
    "duration": 90,
    "start_time": "2021-09-15T20:59:26.230Z"
   },
   {
    "duration": 19,
    "start_time": "2021-09-15T20:59:26.323Z"
   },
   {
    "duration": 16,
    "start_time": "2021-09-15T20:59:26.345Z"
   },
   {
    "duration": 56,
    "start_time": "2021-09-15T20:59:26.364Z"
   },
   {
    "duration": 10,
    "start_time": "2021-09-15T20:59:26.423Z"
   },
   {
    "duration": 5,
    "start_time": "2021-09-15T20:59:26.516Z"
   },
   {
    "duration": 21,
    "start_time": "2021-09-15T20:59:26.524Z"
   },
   {
    "duration": 82,
    "start_time": "2021-09-15T20:59:26.548Z"
   },
   {
    "duration": 1735,
    "start_time": "2021-09-16T15:53:15.350Z"
   },
   {
    "duration": 102,
    "start_time": "2021-09-16T15:53:17.088Z"
   },
   {
    "duration": 7,
    "start_time": "2021-09-16T15:53:17.193Z"
   },
   {
    "duration": 21,
    "start_time": "2021-09-16T15:53:17.204Z"
   },
   {
    "duration": 9,
    "start_time": "2021-09-16T15:53:17.228Z"
   },
   {
    "duration": 16,
    "start_time": "2021-09-16T15:53:17.240Z"
   },
   {
    "duration": 11,
    "start_time": "2021-09-16T15:53:17.268Z"
   },
   {
    "duration": 34,
    "start_time": "2021-09-16T15:53:17.283Z"
   },
   {
    "duration": 11,
    "start_time": "2021-09-16T15:53:17.320Z"
   },
   {
    "duration": 34,
    "start_time": "2021-09-16T15:53:17.334Z"
   },
   {
    "duration": 8574,
    "start_time": "2021-09-16T15:53:17.371Z"
   },
   {
    "duration": 3,
    "start_time": "2021-09-16T15:53:25.947Z"
   },
   {
    "duration": 24,
    "start_time": "2021-09-16T15:53:25.952Z"
   },
   {
    "duration": 29,
    "start_time": "2021-09-16T15:53:25.978Z"
   },
   {
    "duration": 22,
    "start_time": "2021-09-16T15:53:26.010Z"
   },
   {
    "duration": 36,
    "start_time": "2021-09-16T15:53:26.034Z"
   },
   {
    "duration": 40,
    "start_time": "2021-09-16T15:53:26.073Z"
   },
   {
    "duration": 23,
    "start_time": "2021-09-16T15:53:26.115Z"
   },
   {
    "duration": 58,
    "start_time": "2021-09-16T15:53:26.141Z"
   },
   {
    "duration": 7,
    "start_time": "2021-09-16T15:53:26.201Z"
   },
   {
    "duration": 18,
    "start_time": "2021-09-16T15:53:26.211Z"
   },
   {
    "duration": 23,
    "start_time": "2021-09-16T15:53:26.232Z"
   },
   {
    "duration": 4,
    "start_time": "2021-09-16T15:53:26.270Z"
   },
   {
    "duration": 27,
    "start_time": "2021-09-16T15:53:26.278Z"
   },
   {
    "duration": 26,
    "start_time": "2021-09-16T15:53:26.307Z"
   },
   {
    "duration": 93,
    "start_time": "2021-09-16T15:53:26.336Z"
   },
   {
    "duration": 87,
    "start_time": "2021-09-16T15:53:26.432Z"
   },
   {
    "duration": 1471,
    "start_time": "2021-09-16T15:53:26.521Z"
   },
   {
    "duration": 17,
    "start_time": "2021-09-16T15:53:27.995Z"
   },
   {
    "duration": 26,
    "start_time": "2021-09-16T15:53:28.014Z"
   },
   {
    "duration": 22,
    "start_time": "2021-09-16T15:53:28.042Z"
   },
   {
    "duration": 23,
    "start_time": "2021-09-16T15:53:28.066Z"
   },
   {
    "duration": 968,
    "start_time": "2021-09-16T15:53:28.091Z"
   },
   {
    "duration": 29,
    "start_time": "2021-09-16T15:53:29.066Z"
   },
   {
    "duration": 7,
    "start_time": "2021-09-16T15:53:29.097Z"
   },
   {
    "duration": 27,
    "start_time": "2021-09-16T15:53:29.106Z"
   },
   {
    "duration": 506,
    "start_time": "2021-09-16T15:53:29.135Z"
   },
   {
    "duration": 82,
    "start_time": "2021-09-16T15:53:29.644Z"
   },
   {
    "duration": 525,
    "start_time": "2021-09-16T15:53:29.729Z"
   },
   {
    "duration": 11,
    "start_time": "2021-09-16T15:53:30.257Z"
   },
   {
    "duration": 27,
    "start_time": "2021-09-16T15:53:30.271Z"
   },
   {
    "duration": 86,
    "start_time": "2021-09-16T15:53:30.300Z"
   },
   {
    "duration": 200,
    "start_time": "2021-09-16T15:53:30.389Z"
   },
   {
    "duration": 77,
    "start_time": "2021-09-16T15:53:30.591Z"
   },
   {
    "duration": 97,
    "start_time": "2021-09-16T15:53:30.671Z"
   },
   {
    "duration": 16,
    "start_time": "2021-09-16T15:53:30.770Z"
   },
   {
    "duration": 13,
    "start_time": "2021-09-16T15:53:30.789Z"
   },
   {
    "duration": 18,
    "start_time": "2021-09-16T15:53:30.805Z"
   },
   {
    "duration": 42,
    "start_time": "2021-09-16T15:53:30.825Z"
   },
   {
    "duration": 8,
    "start_time": "2021-09-16T15:53:30.870Z"
   },
   {
    "duration": 91,
    "start_time": "2021-09-16T15:53:30.881Z"
   },
   {
    "duration": 98,
    "start_time": "2021-09-16T15:53:30.975Z"
   },
   {
    "duration": 91,
    "start_time": "2021-09-16T15:53:31.076Z"
   },
   {
    "duration": 10,
    "start_time": "2021-09-16T15:53:31.170Z"
   },
   {
    "duration": 18,
    "start_time": "2021-09-16T15:53:31.183Z"
   },
   {
    "duration": 64,
    "start_time": "2021-09-16T15:53:31.204Z"
   },
   {
    "duration": 96,
    "start_time": "2021-09-16T15:53:31.271Z"
   },
   {
    "duration": 4,
    "start_time": "2021-09-16T15:53:31.370Z"
   },
   {
    "duration": 21,
    "start_time": "2021-09-16T15:53:31.377Z"
   },
   {
    "duration": 72,
    "start_time": "2021-09-16T15:53:31.401Z"
   },
   {
    "duration": 1194,
    "start_time": "2021-09-18T12:46:26.063Z"
   },
   {
    "duration": 79,
    "start_time": "2021-09-18T12:46:30.277Z"
   },
   {
    "duration": 5,
    "start_time": "2021-09-18T12:46:40.394Z"
   },
   {
    "duration": 12,
    "start_time": "2021-09-18T12:46:46.921Z"
   },
   {
    "duration": 9,
    "start_time": "2021-09-18T12:47:39.702Z"
   },
   {
    "duration": 1560,
    "start_time": "2021-09-20T11:07:09.096Z"
   },
   {
    "duration": 162,
    "start_time": "2021-09-20T11:07:19.833Z"
   },
   {
    "duration": 6,
    "start_time": "2021-09-20T11:07:51.545Z"
   },
   {
    "duration": 19,
    "start_time": "2021-09-20T11:07:53.575Z"
   },
   {
    "duration": 13,
    "start_time": "2021-09-20T11:07:57.107Z"
   },
   {
    "duration": 5,
    "start_time": "2021-09-20T11:14:24.178Z"
   },
   {
    "duration": 11,
    "start_time": "2021-09-20T11:14:26.140Z"
   },
   {
    "duration": 37,
    "start_time": "2021-09-20T11:14:33.582Z"
   },
   {
    "duration": 11,
    "start_time": "2021-09-20T11:14:37.504Z"
   },
   {
    "duration": 7,
    "start_time": "2021-09-20T11:14:41.245Z"
   },
   {
    "duration": 8737,
    "start_time": "2021-09-20T11:14:46.069Z"
   },
   {
    "duration": 4,
    "start_time": "2021-09-20T11:15:25.727Z"
   },
   {
    "duration": 6,
    "start_time": "2021-09-20T11:15:27.968Z"
   },
   {
    "duration": 15,
    "start_time": "2021-09-20T11:15:33.468Z"
   },
   {
    "duration": 14,
    "start_time": "2021-09-20T11:16:29.331Z"
   },
   {
    "duration": 23,
    "start_time": "2021-09-20T11:16:32.955Z"
   },
   {
    "duration": 36,
    "start_time": "2021-09-20T11:16:39.146Z"
   },
   {
    "duration": 23,
    "start_time": "2021-09-20T11:16:44.109Z"
   },
   {
    "duration": 1862,
    "start_time": "2021-09-22T11:39:42.863Z"
   },
   {
    "duration": 154,
    "start_time": "2021-09-22T11:39:47.757Z"
   },
   {
    "duration": 5,
    "start_time": "2021-09-22T11:39:49.806Z"
   },
   {
    "duration": 18,
    "start_time": "2021-09-22T11:39:52.179Z"
   },
   {
    "duration": 10,
    "start_time": "2021-09-22T11:39:54.934Z"
   },
   {
    "duration": 5,
    "start_time": "2021-09-22T11:39:57.604Z"
   },
   {
    "duration": 9,
    "start_time": "2021-09-22T11:40:00.153Z"
   },
   {
    "duration": 34,
    "start_time": "2021-09-22T11:40:03.005Z"
   },
   {
    "duration": 11,
    "start_time": "2021-09-22T11:40:05.841Z"
   },
   {
    "duration": 9,
    "start_time": "2021-09-22T11:40:09.002Z"
   },
   {
    "duration": 8544,
    "start_time": "2021-09-22T11:40:16.441Z"
   },
   {
    "duration": 3,
    "start_time": "2021-09-22T11:46:05.000Z"
   },
   {
    "duration": 7,
    "start_time": "2021-09-22T11:46:06.466Z"
   },
   {
    "duration": 18,
    "start_time": "2021-09-22T11:46:09.043Z"
   },
   {
    "duration": 16,
    "start_time": "2021-09-22T11:46:10.938Z"
   },
   {
    "duration": 26,
    "start_time": "2021-09-22T11:46:13.387Z"
   },
   {
    "duration": 33,
    "start_time": "2021-09-22T11:46:16.645Z"
   },
   {
    "duration": 22,
    "start_time": "2021-09-22T11:46:21.040Z"
   },
   {
    "duration": 33,
    "start_time": "2021-09-22T11:46:23.888Z"
   },
   {
    "duration": 3,
    "start_time": "2021-09-22T11:59:49.324Z"
   },
   {
    "duration": 6,
    "start_time": "2021-09-22T11:59:58.130Z"
   },
   {
    "duration": 17,
    "start_time": "2021-09-22T12:21:06.107Z"
   },
   {
    "duration": 15,
    "start_time": "2021-09-22T12:21:13.628Z"
   },
   {
    "duration": 22,
    "start_time": "2021-09-22T12:21:37.576Z"
   },
   {
    "duration": 35,
    "start_time": "2021-09-22T12:21:40.671Z"
   },
   {
    "duration": 23,
    "start_time": "2021-09-22T12:21:44.296Z"
   },
   {
    "duration": 35,
    "start_time": "2021-09-22T12:21:47.650Z"
   },
   {
    "duration": 189,
    "start_time": "2021-09-22T12:23:15.663Z"
   },
   {
    "duration": 5,
    "start_time": "2021-09-22T12:31:11.127Z"
   },
   {
    "duration": 148,
    "start_time": "2021-09-22T12:43:14.700Z"
   },
   {
    "duration": 1655,
    "start_time": "2021-09-22T13:06:01.011Z"
   },
   {
    "duration": 107,
    "start_time": "2021-09-22T13:06:02.669Z"
   },
   {
    "duration": 6,
    "start_time": "2021-09-22T13:06:02.780Z"
   },
   {
    "duration": 33,
    "start_time": "2021-09-22T13:06:02.788Z"
   },
   {
    "duration": 10,
    "start_time": "2021-09-22T13:06:02.824Z"
   },
   {
    "duration": 13,
    "start_time": "2021-09-22T13:06:02.836Z"
   },
   {
    "duration": 26,
    "start_time": "2021-09-22T13:06:02.851Z"
   },
   {
    "duration": 59,
    "start_time": "2021-09-22T13:06:02.883Z"
   },
   {
    "duration": 12,
    "start_time": "2021-09-22T13:06:02.945Z"
   },
   {
    "duration": 21,
    "start_time": "2021-09-22T13:06:02.960Z"
   },
   {
    "duration": 8749,
    "start_time": "2021-09-22T13:06:02.983Z"
   },
   {
    "duration": 3,
    "start_time": "2021-09-22T13:06:11.735Z"
   },
   {
    "duration": 8,
    "start_time": "2021-09-22T13:06:11.740Z"
   },
   {
    "duration": 21,
    "start_time": "2021-09-22T13:06:11.751Z"
   },
   {
    "duration": 14,
    "start_time": "2021-09-22T13:06:11.775Z"
   },
   {
    "duration": 25,
    "start_time": "2021-09-22T13:06:11.815Z"
   },
   {
    "duration": 36,
    "start_time": "2021-09-22T13:06:11.842Z"
   },
   {
    "duration": 51,
    "start_time": "2021-09-22T13:06:11.881Z"
   },
   {
    "duration": 33,
    "start_time": "2021-09-22T13:06:11.935Z"
   },
   {
    "duration": 5,
    "start_time": "2021-09-22T13:06:11.971Z"
   },
   {
    "duration": 42,
    "start_time": "2021-09-22T13:06:11.979Z"
   },
   {
    "duration": 5,
    "start_time": "2021-09-22T13:06:12.023Z"
   },
   {
    "duration": 4,
    "start_time": "2021-09-22T13:06:12.034Z"
   },
   {
    "duration": 15,
    "start_time": "2021-09-22T13:06:12.042Z"
   },
   {
    "duration": 10,
    "start_time": "2021-09-22T13:06:12.060Z"
   },
   {
    "duration": 109,
    "start_time": "2021-09-22T13:06:12.073Z"
   },
   {
    "duration": 95,
    "start_time": "2021-09-22T13:06:12.185Z"
   },
   {
    "duration": 1591,
    "start_time": "2021-09-22T13:06:12.283Z"
   },
   {
    "duration": 17,
    "start_time": "2021-09-22T13:06:13.877Z"
   },
   {
    "duration": 5,
    "start_time": "2021-09-22T13:06:13.916Z"
   },
   {
    "duration": 7,
    "start_time": "2021-09-22T13:06:13.924Z"
   },
   {
    "duration": 16,
    "start_time": "2021-09-22T13:06:13.934Z"
   },
   {
    "duration": 967,
    "start_time": "2021-09-22T13:06:13.953Z"
   },
   {
    "duration": 29,
    "start_time": "2021-09-22T13:06:14.923Z"
   },
   {
    "duration": 7,
    "start_time": "2021-09-22T13:06:14.954Z"
   },
   {
    "duration": 9,
    "start_time": "2021-09-22T13:06:14.964Z"
   },
   {
    "duration": 560,
    "start_time": "2021-09-22T13:06:14.975Z"
   },
   {
    "duration": 89,
    "start_time": "2021-09-22T13:06:15.537Z"
   },
   {
    "duration": 538,
    "start_time": "2021-09-22T13:06:15.628Z"
   },
   {
    "duration": 7,
    "start_time": "2021-09-22T13:06:16.168Z"
   },
   {
    "duration": 12,
    "start_time": "2021-09-22T13:06:16.179Z"
   },
   {
    "duration": 32,
    "start_time": "2021-09-22T13:06:16.193Z"
   },
   {
    "duration": 98,
    "start_time": "2021-09-22T13:06:16.229Z"
   },
   {
    "duration": 93,
    "start_time": "2021-09-22T13:06:16.330Z"
   },
   {
    "duration": 90,
    "start_time": "2021-09-22T13:06:16.427Z"
   },
   {
    "duration": 6,
    "start_time": "2021-09-22T13:06:16.519Z"
   },
   {
    "duration": 4,
    "start_time": "2021-09-22T13:06:16.528Z"
   },
   {
    "duration": 7,
    "start_time": "2021-09-22T13:06:16.535Z"
   },
   {
    "duration": 8,
    "start_time": "2021-09-22T13:06:16.545Z"
   },
   {
    "duration": 9,
    "start_time": "2021-09-22T13:06:16.618Z"
   },
   {
    "duration": 93,
    "start_time": "2021-09-22T13:06:16.630Z"
   },
   {
    "duration": 8,
    "start_time": "2021-09-22T13:06:16.726Z"
   },
   {
    "duration": 85,
    "start_time": "2021-09-22T13:06:16.737Z"
   },
   {
    "duration": 93,
    "start_time": "2021-09-22T13:06:16.825Z"
   },
   {
    "duration": 9,
    "start_time": "2021-09-22T13:06:16.921Z"
   },
   {
    "duration": 82,
    "start_time": "2021-09-22T13:06:16.934Z"
   },
   {
    "duration": 5,
    "start_time": "2021-09-22T13:06:17.020Z"
   },
   {
    "duration": 6,
    "start_time": "2021-09-22T13:06:17.028Z"
   },
   {
    "duration": 89,
    "start_time": "2021-09-22T13:06:17.036Z"
   },
   {
    "duration": 99,
    "start_time": "2021-09-22T13:06:17.128Z"
   }
  ],
  "kernelspec": {
   "display_name": "Python 3",
   "language": "python",
   "name": "python3"
  },
  "language_info": {
   "codemirror_mode": {
    "name": "ipython",
    "version": 3
   },
   "file_extension": ".py",
   "mimetype": "text/x-python",
   "name": "python",
   "nbconvert_exporter": "python",
   "pygments_lexer": "ipython3",
   "version": "3.7.8"
  },
  "toc": {
   "base_numbering": 1,
   "nav_menu": {},
   "number_sections": true,
   "sideBar": true,
   "skip_h1_title": true,
   "title_cell": "Table of Contents",
   "title_sidebar": "Contents",
   "toc_cell": false,
   "toc_position": {},
   "toc_section_display": true,
   "toc_window_display": false
  }
 },
 "nbformat": 4,
 "nbformat_minor": 4
}
